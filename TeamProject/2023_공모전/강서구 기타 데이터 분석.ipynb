{
 "cells": [
  {
   "cell_type": "code",
   "execution_count": 2,
   "metadata": {},
   "outputs": [],
   "source": [
    "import pandas as pd\n",
    "from matplotlib import pyplot as plt\n",
    "import numpy as np\n",
    "import re\n",
    "from sklearn.cluster import KMeans\n",
    "from sklearn.preprocessing import StandardScaler\n",
    "import re"
   ]
  },
  {
   "cell_type": "code",
   "execution_count": 16,
   "metadata": {},
   "outputs": [],
   "source": [
    "PATH = 'C:/Users/davin/Downloads/'\n",
    "\n",
    "car  = PATH + '자동차등록(월별_구별)_20230323151206.csv'\n",
    "car_now = PATH + '자동차_현황.csv'\n",
    "parking = PATH + '주차장(동별)(2016년+이후)_20230323162553.csv'\n",
    "per_in = PATH + '20230323180152_강서구_2018-2022_데이터랩_다운로드/20230323180152_인기관광지_현지인.csv'\n",
    "per_out = PATH + '20230323180152_강서구_2018-2022_데이터랩_다운로드/20230323180152_인기관광지_외지인.csv'\n",
    "parking_lot = PATH + '주차장(동별)(2016년+이후)_20230323230147.csv'"
   ]
  },
  {
   "cell_type": "code",
   "execution_count": 6,
   "metadata": {
    "scrolled": true
   },
   "outputs": [
    {
     "data": {
      "text/html": [
       "<div>\n",
       "<style scoped>\n",
       "    .dataframe tbody tr th:only-of-type {\n",
       "        vertical-align: middle;\n",
       "    }\n",
       "\n",
       "    .dataframe tbody tr th {\n",
       "        vertical-align: top;\n",
       "    }\n",
       "\n",
       "    .dataframe thead th {\n",
       "        text-align: right;\n",
       "    }\n",
       "</style>\n",
       "<table border=\"1\" class=\"dataframe\">\n",
       "  <thead>\n",
       "    <tr style=\"text-align: right;\">\n",
       "      <th></th>\n",
       "      <th>자치구별(2)</th>\n",
       "      <th>2023. 02</th>\n",
       "    </tr>\n",
       "  </thead>\n",
       "  <tbody>\n",
       "    <tr>\n",
       "      <th>0</th>\n",
       "      <td>자치구별(2)</td>\n",
       "      <td>합계</td>\n",
       "    </tr>\n",
       "    <tr>\n",
       "      <th>1</th>\n",
       "      <td>자치구별(2)</td>\n",
       "      <td>소계</td>\n",
       "    </tr>\n",
       "    <tr>\n",
       "      <th>2</th>\n",
       "      <td>자치구별(2)</td>\n",
       "      <td>계</td>\n",
       "    </tr>\n",
       "    <tr>\n",
       "      <th>3</th>\n",
       "      <td>소계</td>\n",
       "      <td>3191681</td>\n",
       "    </tr>\n",
       "    <tr>\n",
       "      <th>4</th>\n",
       "      <td>종로구</td>\n",
       "      <td>50971</td>\n",
       "    </tr>\n",
       "  </tbody>\n",
       "</table>\n",
       "</div>"
      ],
      "text/plain": [
       "   자치구별(2) 2023. 02\n",
       "0  자치구별(2)       합계\n",
       "1  자치구별(2)       소계\n",
       "2  자치구별(2)        계\n",
       "3       소계  3191681\n",
       "4      종로구    50971"
      ]
     },
     "execution_count": 6,
     "metadata": {},
     "output_type": "execute_result"
    }
   ],
   "source": [
    "car_df = pd.read_csv(car, encoding='utf8')\n",
    "car_df[['자치구별(2)','2023. 02']].head()"
   ]
  },
  {
   "cell_type": "code",
   "execution_count": 32,
   "metadata": {},
   "outputs": [
    {
     "data": {
      "text/html": [
       "<div>\n",
       "<style scoped>\n",
       "    .dataframe tbody tr th:only-of-type {\n",
       "        vertical-align: middle;\n",
       "    }\n",
       "\n",
       "    .dataframe tbody tr th {\n",
       "        vertical-align: top;\n",
       "    }\n",
       "\n",
       "    .dataframe thead th {\n",
       "        text-align: right;\n",
       "    }\n",
       "</style>\n",
       "<table border=\"1\" class=\"dataframe\">\n",
       "  <thead>\n",
       "    <tr style=\"text-align: right;\">\n",
       "      <th></th>\n",
       "      <th>자치구별(2)</th>\n",
       "      <th>2022. 12</th>\n",
       "      <th>2023. 01</th>\n",
       "      <th>2023. 02</th>\n",
       "    </tr>\n",
       "  </thead>\n",
       "  <tbody>\n",
       "    <tr>\n",
       "      <th>19</th>\n",
       "      <td>강서구</td>\n",
       "      <td>207536</td>\n",
       "      <td>206811</td>\n",
       "      <td>206082</td>\n",
       "    </tr>\n",
       "  </tbody>\n",
       "</table>\n",
       "</div>"
      ],
      "text/plain": [
       "   자치구별(2) 2022. 12 2023. 01 2023. 02\n",
       "19     강서구   207536   206811   206082"
      ]
     },
     "execution_count": 32,
     "metadata": {},
     "output_type": "execute_result"
    }
   ],
   "source": [
    "car_df[car_df['자치구별(2)'] == '강서구'][['자치구별(2)', '2022. 12', '2023. 01', '2023. 02']]"
   ]
  },
  {
   "cell_type": "code",
   "execution_count": 97,
   "metadata": {
    "scrolled": true
   },
   "outputs": [
    {
     "data": {
      "text/html": [
       "<div>\n",
       "<style scoped>\n",
       "    .dataframe tbody tr th:only-of-type {\n",
       "        vertical-align: middle;\n",
       "    }\n",
       "\n",
       "    .dataframe tbody tr th {\n",
       "        vertical-align: top;\n",
       "    }\n",
       "\n",
       "    .dataframe thead th {\n",
       "        text-align: right;\n",
       "    }\n",
       "</style>\n",
       "<table border=\"1\" class=\"dataframe\">\n",
       "  <thead>\n",
       "    <tr style=\"text-align: right;\">\n",
       "      <th></th>\n",
       "      <th>자치구별(2)</th>\n",
       "      <th>2023. 02</th>\n",
       "    </tr>\n",
       "  </thead>\n",
       "  <tbody>\n",
       "    <tr>\n",
       "      <th>4</th>\n",
       "      <td>종로구</td>\n",
       "      <td>50971</td>\n",
       "    </tr>\n",
       "    <tr>\n",
       "      <th>5</th>\n",
       "      <td>중구</td>\n",
       "      <td>57822</td>\n",
       "    </tr>\n",
       "    <tr>\n",
       "      <th>6</th>\n",
       "      <td>용산구</td>\n",
       "      <td>75553</td>\n",
       "    </tr>\n",
       "    <tr>\n",
       "      <th>7</th>\n",
       "      <td>성동구</td>\n",
       "      <td>103707</td>\n",
       "    </tr>\n",
       "    <tr>\n",
       "      <th>8</th>\n",
       "      <td>광진구</td>\n",
       "      <td>97950</td>\n",
       "    </tr>\n",
       "  </tbody>\n",
       "</table>\n",
       "</div>"
      ],
      "text/plain": [
       "  자치구별(2) 2023. 02\n",
       "4     종로구    50971\n",
       "5      중구    57822\n",
       "6     용산구    75553\n",
       "7     성동구   103707\n",
       "8     광진구    97950"
      ]
     },
     "execution_count": 97,
     "metadata": {},
     "output_type": "execute_result"
    }
   ],
   "source": [
    "car_df[['자치구별(2)','2023. 02']][4:29].head()"
   ]
  },
  {
   "cell_type": "code",
   "execution_count": 99,
   "metadata": {},
   "outputs": [
    {
     "data": {
      "text/plain": [
       "<BarContainer object of 25 artists>"
      ]
     },
     "execution_count": 99,
     "metadata": {},
     "output_type": "execute_result"
    },
    {
     "data": {
      "image/png": "[encoded data removed]",
      "text/plain": [
       "<Figure size 720x360 with 1 Axes>"
      ]
     },
     "metadata": {
      "needs_background": "light"
     },
     "output_type": "display_data"
    }
   ],
   "source": [
    "plt.rcParams['font.family'] = 'Malgun Gothic'\n",
    "plt.figure(figsize=(10, 5))\n",
    "plt.title('2023년 서울시 자동차 등록 수')\n",
    "plt.xlabel('자치구')\n",
    "plt.ylabel('자동차 수')\n",
    "plt.xticks(rotation=45)\n",
    "plt.bar(car_df['자치구별(2)'][4:29], car_df['2023. 02'][4:29], color='skyblue')"
   ]
  },
  {
   "cell_type": "code",
   "execution_count": 96,
   "metadata": {
    "scrolled": true
   },
   "outputs": [
    {
     "data": {
      "text/html": [
       "<div>\n",
       "<style scoped>\n",
       "    .dataframe tbody tr th:only-of-type {\n",
       "        vertical-align: middle;\n",
       "    }\n",
       "\n",
       "    .dataframe tbody tr th {\n",
       "        vertical-align: top;\n",
       "    }\n",
       "\n",
       "    .dataframe thead th {\n",
       "        text-align: right;\n",
       "    }\n",
       "</style>\n",
       "<table border=\"1\" class=\"dataframe\">\n",
       "  <thead>\n",
       "    <tr style=\"text-align: right;\">\n",
       "      <th></th>\n",
       "      <th>시군구</th>\n",
       "      <th>2023.02 월</th>\n",
       "    </tr>\n",
       "  </thead>\n",
       "  <tbody>\n",
       "    <tr>\n",
       "      <th>17</th>\n",
       "      <td>송파구</td>\n",
       "      <td>249372</td>\n",
       "    </tr>\n",
       "    <tr>\n",
       "      <th>0</th>\n",
       "      <td>강남구</td>\n",
       "      <td>248933</td>\n",
       "    </tr>\n",
       "    <tr>\n",
       "      <th>3</th>\n",
       "      <td>강서구</td>\n",
       "      <td>206082</td>\n",
       "    </tr>\n",
       "    <tr>\n",
       "      <th>14</th>\n",
       "      <td>서초구</td>\n",
       "      <td>176168</td>\n",
       "    </tr>\n",
       "    <tr>\n",
       "      <th>1</th>\n",
       "      <td>강동구</td>\n",
       "      <td>153609</td>\n",
       "    </tr>\n",
       "  </tbody>\n",
       "</table>\n",
       "</div>"
      ],
      "text/plain": [
       "    시군구  2023.02 월\n",
       "17  송파구     249372\n",
       "0   강남구     248933\n",
       "3   강서구     206082\n",
       "14  서초구     176168\n",
       "1   강동구     153609"
      ]
     },
     "execution_count": 96,
     "metadata": {},
     "output_type": "execute_result"
    }
   ],
   "source": [
    "car_now_df = pd.read_csv(car_now, encoding='cp949')\n",
    "car_now_df[['시군구', '2023.02 월']].sort_values(by=['2023.02 월'],ascending=False).head()"
   ]
  },
  {
   "cell_type": "code",
   "execution_count": 46,
   "metadata": {
    "scrolled": true
   },
   "outputs": [
    {
     "data": {
      "text/plain": [
       "<BarContainer object of 25 artists>"
      ]
     },
     "execution_count": 46,
     "metadata": {},
     "output_type": "execute_result"
    },
    {
     "data": {
      "image/png": "[encoded data removed]",
      "text/plain": [
       "<Figure size 432x288 with 1 Axes>"
      ]
     },
     "metadata": {
      "needs_background": "light"
     },
     "output_type": "display_data"
    },
    {
     "data": {
      "image/png": "[encoded data removed]",
      "text/plain": [
       "<Figure size 720x360 with 1 Axes>"
      ]
     },
     "metadata": {
      "needs_background": "light"
     },
     "output_type": "display_data"
    }
   ],
   "source": [
    "plt.rcParams['font.family'] = 'Malgun Gothic'\n",
    "plt.title('2023년 서울시 자동차 등록 수')\n",
    "plt.figure(figsize=(10, 5))\n",
    "plt.xlabel('자치구')\n",
    "plt.ylabel('자동차 수')\n",
    "plt.xticks(rotation=45)\n",
    "plt.bar(car_now_df['시군구'], car_now_df['2023.02 월'], color='skyblue')"
   ]
  },
  {
   "cell_type": "code",
   "execution_count": 7,
   "metadata": {
    "scrolled": true
   },
   "outputs": [
    {
     "data": {
      "text/html": [
       "<div>\n",
       "<style scoped>\n",
       "    .dataframe tbody tr th:only-of-type {\n",
       "        vertical-align: middle;\n",
       "    }\n",
       "\n",
       "    .dataframe tbody tr th {\n",
       "        vertical-align: top;\n",
       "    }\n",
       "\n",
       "    .dataframe thead th {\n",
       "        text-align: right;\n",
       "    }\n",
       "</style>\n",
       "<table border=\"1\" class=\"dataframe\">\n",
       "  <thead>\n",
       "    <tr style=\"text-align: right;\">\n",
       "      <th></th>\n",
       "      <th>동별(2)</th>\n",
       "      <th>합계.1</th>\n",
       "    </tr>\n",
       "  </thead>\n",
       "  <tbody>\n",
       "    <tr>\n",
       "      <th>3</th>\n",
       "      <td>종로구</td>\n",
       "      <td>92062</td>\n",
       "    </tr>\n",
       "    <tr>\n",
       "      <th>4</th>\n",
       "      <td>중구</td>\n",
       "      <td>109153</td>\n",
       "    </tr>\n",
       "    <tr>\n",
       "      <th>5</th>\n",
       "      <td>용산구</td>\n",
       "      <td>118632</td>\n",
       "    </tr>\n",
       "    <tr>\n",
       "      <th>6</th>\n",
       "      <td>성동구</td>\n",
       "      <td>134544</td>\n",
       "    </tr>\n",
       "    <tr>\n",
       "      <th>7</th>\n",
       "      <td>광진구</td>\n",
       "      <td>134389</td>\n",
       "    </tr>\n",
       "  </tbody>\n",
       "</table>\n",
       "</div>"
      ],
      "text/plain": [
       "  동별(2)     합계.1\n",
       "3   종로구   92062 \n",
       "4    중구  109153 \n",
       "5   용산구  118632 \n",
       "6   성동구  134544 \n",
       "7   광진구  134389 "
      ]
     },
     "execution_count": 7,
     "metadata": {},
     "output_type": "execute_result"
    }
   ],
   "source": [
    "parking_df = pd.read_csv(parking, encoding='utf8')\n",
    "parking_df[['동별(2)', '합계.1']][3:].head()"
   ]
  },
  {
   "cell_type": "code",
   "execution_count": 8,
   "metadata": {},
   "outputs": [
    {
     "data": {
      "text/html": [
       "<div>\n",
       "<style scoped>\n",
       "    .dataframe tbody tr th:only-of-type {\n",
       "        vertical-align: middle;\n",
       "    }\n",
       "\n",
       "    .dataframe tbody tr th {\n",
       "        vertical-align: top;\n",
       "    }\n",
       "\n",
       "    .dataframe thead th {\n",
       "        text-align: right;\n",
       "    }\n",
       "</style>\n",
       "<table border=\"1\" class=\"dataframe\">\n",
       "  <thead>\n",
       "    <tr style=\"text-align: right;\">\n",
       "      <th></th>\n",
       "      <th>동별(2)</th>\n",
       "      <th>합계.1</th>\n",
       "    </tr>\n",
       "  </thead>\n",
       "  <tbody>\n",
       "    <tr>\n",
       "      <th>25</th>\n",
       "      <td>강남구</td>\n",
       "      <td>413898</td>\n",
       "    </tr>\n",
       "    <tr>\n",
       "      <th>26</th>\n",
       "      <td>송파구</td>\n",
       "      <td>339227</td>\n",
       "    </tr>\n",
       "    <tr>\n",
       "      <th>18</th>\n",
       "      <td>강서구</td>\n",
       "      <td>315812</td>\n",
       "    </tr>\n",
       "    <tr>\n",
       "      <th>24</th>\n",
       "      <td>서초구</td>\n",
       "      <td>310949</td>\n",
       "    </tr>\n",
       "    <tr>\n",
       "      <th>27</th>\n",
       "      <td>강동구</td>\n",
       "      <td>209959</td>\n",
       "    </tr>\n",
       "  </tbody>\n",
       "</table>\n",
       "</div>"
      ],
      "text/plain": [
       "   동별(2)    합계.1\n",
       "25   강남구  413898\n",
       "26   송파구  339227\n",
       "18   강서구  315812\n",
       "24   서초구  310949\n",
       "27   강동구  209959"
      ]
     },
     "execution_count": 8,
     "metadata": {},
     "output_type": "execute_result"
    }
   ],
   "source": [
    "parking_df['합계.1'][3:] = pd.to_numeric(parking_df['합계.1'][3:])\n",
    "parking_df[['동별(2)', '합계.1']][3:].sort_values(by=['합계.1'],ascending=False).head()"
   ]
  },
  {
   "cell_type": "code",
   "execution_count": 9,
   "metadata": {
    "scrolled": false
   },
   "outputs": [
    {
     "data": {
      "text/plain": [
       "<BarContainer object of 25 artists>"
      ]
     },
     "execution_count": 9,
     "metadata": {},
     "output_type": "execute_result"
    },
    {
     "data": {
      "image/png": "[encoded data removed]",
      "text/plain": [
       "<Figure size 720x360 with 1 Axes>"
      ]
     },
     "metadata": {
      "needs_background": "light"
     },
     "output_type": "display_data"
    }
   ],
   "source": [
    "plt.rcParams['font.family'] = 'Malgun Gothic'\n",
    "plt.figure(figsize=(10, 5))\n",
    "plt.title('2023년 서울시 자치구별 주차면수')\n",
    "plt.xlabel('자치구')\n",
    "plt.ylabel('주차면수')\n",
    "plt.xticks(rotation=45)\n",
    "plt.bar(parking_df['동별(2)'][3:], parking_df['합계.1'][3:])"
   ]
  },
  {
   "cell_type": "code",
   "execution_count": 30,
   "metadata": {},
   "outputs": [
    {
     "data": {
      "text/html": [
       "<div>\n",
       "<style scoped>\n",
       "    .dataframe tbody tr th:only-of-type {\n",
       "        vertical-align: middle;\n",
       "    }\n",
       "\n",
       "    .dataframe tbody tr th {\n",
       "        vertical-align: top;\n",
       "    }\n",
       "\n",
       "    .dataframe thead th {\n",
       "        text-align: right;\n",
       "    }\n",
       "</style>\n",
       "<table border=\"1\" class=\"dataframe\">\n",
       "  <thead>\n",
       "    <tr style=\"text-align: right;\">\n",
       "      <th></th>\n",
       "      <th>동별(2)</th>\n",
       "      <th>소계</th>\n",
       "      <th>소계.1</th>\n",
       "      <th>공영</th>\n",
       "      <th>공영.1</th>\n",
       "      <th>민영</th>\n",
       "      <th>민영.1</th>\n",
       "    </tr>\n",
       "  </thead>\n",
       "  <tbody>\n",
       "    <tr>\n",
       "      <th>16</th>\n",
       "      <td>강서구</td>\n",
       "      <td>17639</td>\n",
       "      <td>315812</td>\n",
       "      <td>665</td>\n",
       "      <td>8895</td>\n",
       "      <td>16974</td>\n",
       "      <td>306917</td>\n",
       "    </tr>\n",
       "  </tbody>\n",
       "</table>\n",
       "</div>"
      ],
      "text/plain": [
       "   동별(2)     소계    소계.1   공영  공영.1     민영    민영.1\n",
       "16   강서구  17639  315812  665  8895  16974  306917"
      ]
     },
     "execution_count": 30,
     "metadata": {},
     "output_type": "execute_result"
    }
   ],
   "source": [
    "parking_lot_df = pd.read_csv(parking_lot, encoding='utf8')\n",
    "parking_lot_df[parking_lot_df['동별(2)'] == '강서구'][['동별(2)', '소계', '소계.1', '공영', '공영.1', '민영', '민영.1']].head()"
   ]
  },
  {
   "cell_type": "code",
   "execution_count": 36,
   "metadata": {},
   "outputs": [
    {
     "data": {
      "text/html": [
       "<div>\n",
       "<style scoped>\n",
       "    .dataframe tbody tr th:only-of-type {\n",
       "        vertical-align: middle;\n",
       "    }\n",
       "\n",
       "    .dataframe tbody tr th {\n",
       "        vertical-align: top;\n",
       "    }\n",
       "\n",
       "    .dataframe thead th {\n",
       "        text-align: right;\n",
       "    }\n",
       "</style>\n",
       "<table border=\"1\" class=\"dataframe\">\n",
       "  <thead>\n",
       "    <tr style=\"text-align: right;\">\n",
       "      <th></th>\n",
       "      <th>공영</th>\n",
       "      <th>민영</th>\n",
       "    </tr>\n",
       "  </thead>\n",
       "  <tbody>\n",
       "    <tr>\n",
       "      <th>합계</th>\n",
       "      <td>17639</td>\n",
       "      <td>315812</td>\n",
       "    </tr>\n",
       "    <tr>\n",
       "      <th>개수</th>\n",
       "      <td>665</td>\n",
       "      <td>16974</td>\n",
       "    </tr>\n",
       "    <tr>\n",
       "      <th>면수</th>\n",
       "      <td>8895</td>\n",
       "      <td>306917</td>\n",
       "    </tr>\n",
       "  </tbody>\n",
       "</table>\n",
       "</div>"
      ],
      "text/plain": [
       "       공영      민영\n",
       "합계  17639  315812\n",
       "개수    665   16974\n",
       "면수   8895  306917"
      ]
     },
     "execution_count": 36,
     "metadata": {},
     "output_type": "execute_result"
    }
   ],
   "source": [
    "gong = [17639, 665, 8895]\n",
    "miny = [315812, 16974, 306917]\n",
    "jucha = ['합계','개수', '면수']\n",
    "df = pd.DataFrame({'공영' : gong, '민영' : miny}, index = jucha)\n",
    "df"
   ]
  },
  {
   "cell_type": "code",
   "execution_count": 54,
   "metadata": {},
   "outputs": [
    {
     "data": {
      "image/png": "[encoded data removed]",
      "text/plain": [
       "<Figure size 504x288 with 1 Axes>"
      ]
     },
     "metadata": {
      "needs_background": "light"
     },
     "output_type": "display_data"
    }
   ],
   "source": [
    "fig, ax = plt.subplots(figsize=(7,4))\n",
    "bar_width = 0.25\n",
    "\n",
    "index = np.arange(len(jucha))\n",
    "plt.bar(index + bar_width * 0.5, df['공영'], bar_width, alpha=0.4, color='orange', label='공영')\n",
    "plt.bar(index + bar_width * 1.5, df['민영'], bar_width, alpha=0.4, color='skyblue', label='민영')\n",
    "\n",
    "plt.title('강서구 공영/민영 주차시설')\n",
    "plt.xticks(np.arange(bar_width, 4 + bar_width, 1), jucha)\n",
    "plt.legend()\n",
    "plt.show()"
   ]
  },
  {
   "cell_type": "code",
   "execution_count": null,
   "metadata": {},
   "outputs": [],
   "source": []
  },
  {
   "cell_type": "code",
   "execution_count": null,
   "metadata": {},
   "outputs": [],
   "source": []
  },
  {
   "cell_type": "code",
   "execution_count": 112,
   "metadata": {},
   "outputs": [
    {
     "data": {
      "text/html": [
       "<div>\n",
       "<style scoped>\n",
       "    .dataframe tbody tr th:only-of-type {\n",
       "        vertical-align: middle;\n",
       "    }\n",
       "\n",
       "    .dataframe tbody tr th {\n",
       "        vertical-align: top;\n",
       "    }\n",
       "\n",
       "    .dataframe thead th {\n",
       "        text-align: right;\n",
       "    }\n",
       "</style>\n",
       "<table border=\"1\" class=\"dataframe\">\n",
       "  <thead>\n",
       "    <tr style=\"text-align: right;\">\n",
       "      <th></th>\n",
       "      <th>관광지명</th>\n",
       "      <th>분류</th>\n",
       "      <th>현지인 검색 수</th>\n",
       "    </tr>\n",
       "  </thead>\n",
       "  <tbody>\n",
       "    <tr>\n",
       "      <th>0</th>\n",
       "      <td>김포국제공항국내선</td>\n",
       "      <td>교통시설</td>\n",
       "      <td>362971</td>\n",
       "    </tr>\n",
       "    <tr>\n",
       "      <th>1</th>\n",
       "      <td>롯데몰김포공항점</td>\n",
       "      <td>쇼핑몰</td>\n",
       "      <td>293749</td>\n",
       "    </tr>\n",
       "    <tr>\n",
       "      <th>2</th>\n",
       "      <td>이마트가양점</td>\n",
       "      <td>대형마트</td>\n",
       "      <td>236475</td>\n",
       "    </tr>\n",
       "    <tr>\n",
       "      <th>3</th>\n",
       "      <td>NC백화점강서점</td>\n",
       "      <td>백화점</td>\n",
       "      <td>216307</td>\n",
       "    </tr>\n",
       "    <tr>\n",
       "      <th>4</th>\n",
       "      <td>김포국제공항</td>\n",
       "      <td>교통시설</td>\n",
       "      <td>204730</td>\n",
       "    </tr>\n",
       "    <tr>\n",
       "      <th>...</th>\n",
       "      <td>...</td>\n",
       "      <td>...</td>\n",
       "      <td>...</td>\n",
       "    </tr>\n",
       "    <tr>\n",
       "      <th>95</th>\n",
       "      <td>강서구민회관우장홀</td>\n",
       "      <td>공연시설</td>\n",
       "      <td>1001</td>\n",
       "    </tr>\n",
       "    <tr>\n",
       "      <th>96</th>\n",
       "      <td>리버파크관광호텔</td>\n",
       "      <td>호텔</td>\n",
       "      <td>993</td>\n",
       "    </tr>\n",
       "    <tr>\n",
       "      <th>97</th>\n",
       "      <td>BJ호텔</td>\n",
       "      <td>모텔</td>\n",
       "      <td>973</td>\n",
       "    </tr>\n",
       "    <tr>\n",
       "      <th>98</th>\n",
       "      <td>미타사</td>\n",
       "      <td>종교성지</td>\n",
       "      <td>956</td>\n",
       "    </tr>\n",
       "    <tr>\n",
       "      <th>99</th>\n",
       "      <td>서남물재생센터공원</td>\n",
       "      <td>도시공원</td>\n",
       "      <td>941</td>\n",
       "    </tr>\n",
       "  </tbody>\n",
       "</table>\n",
       "<p>100 rows × 3 columns</p>\n",
       "</div>"
      ],
      "text/plain": [
       "         관광지명    분류  현지인 검색 수\n",
       "0   김포국제공항국내선  교통시설    362971\n",
       "1    롯데몰김포공항점   쇼핑몰    293749\n",
       "2      이마트가양점  대형마트    236475\n",
       "3    NC백화점강서점   백화점    216307\n",
       "4      김포국제공항  교통시설    204730\n",
       "..        ...   ...       ...\n",
       "95  강서구민회관우장홀  공연시설      1001\n",
       "96   리버파크관광호텔    호텔       993\n",
       "97       BJ호텔    모텔       973\n",
       "98        미타사  종교성지       956\n",
       "99  서남물재생센터공원  도시공원       941\n",
       "\n",
       "[100 rows x 3 columns]"
      ]
     },
     "execution_count": 112,
     "metadata": {},
     "output_type": "execute_result"
    }
   ],
   "source": [
    "per_in_df = pd.read_csv(per_in, encoding='cp949')\n",
    "per_out_df = pd.read_csv(per_out, encoding='cp949')\n",
    "per_in_df[['관광지명', '분류', '현지인 검색 수']]"
   ]
  },
  {
   "cell_type": "code",
   "execution_count": 113,
   "metadata": {},
   "outputs": [
    {
     "data": {
      "text/html": [
       "<div>\n",
       "<style scoped>\n",
       "    .dataframe tbody tr th:only-of-type {\n",
       "        vertical-align: middle;\n",
       "    }\n",
       "\n",
       "    .dataframe tbody tr th {\n",
       "        vertical-align: top;\n",
       "    }\n",
       "\n",
       "    .dataframe thead th {\n",
       "        text-align: right;\n",
       "    }\n",
       "</style>\n",
       "<table border=\"1\" class=\"dataframe\">\n",
       "  <thead>\n",
       "    <tr style=\"text-align: right;\">\n",
       "      <th></th>\n",
       "      <th>관광지명</th>\n",
       "      <th>분류</th>\n",
       "      <th>외지인 검색 수</th>\n",
       "    </tr>\n",
       "  </thead>\n",
       "  <tbody>\n",
       "    <tr>\n",
       "      <th>0</th>\n",
       "      <td>김포국제공항국내선</td>\n",
       "      <td>교통시설</td>\n",
       "      <td>4520784</td>\n",
       "    </tr>\n",
       "    <tr>\n",
       "      <th>1</th>\n",
       "      <td>김포국제공항</td>\n",
       "      <td>교통시설</td>\n",
       "      <td>2101877</td>\n",
       "    </tr>\n",
       "    <tr>\n",
       "      <th>2</th>\n",
       "      <td>롯데몰김포공항점</td>\n",
       "      <td>쇼핑몰</td>\n",
       "      <td>1435813</td>\n",
       "    </tr>\n",
       "    <tr>\n",
       "      <th>3</th>\n",
       "      <td>강서농산물도매시장</td>\n",
       "      <td>시장</td>\n",
       "      <td>706491</td>\n",
       "    </tr>\n",
       "    <tr>\n",
       "      <th>4</th>\n",
       "      <td>NC백화점강서점</td>\n",
       "      <td>백화점</td>\n",
       "      <td>624324</td>\n",
       "    </tr>\n",
       "    <tr>\n",
       "      <th>...</th>\n",
       "      <td>...</td>\n",
       "      <td>...</td>\n",
       "      <td>...</td>\n",
       "    </tr>\n",
       "    <tr>\n",
       "      <th>95</th>\n",
       "      <td>모텔플라워</td>\n",
       "      <td>모텔</td>\n",
       "      <td>3454</td>\n",
       "    </tr>\n",
       "    <tr>\n",
       "      <th>96</th>\n",
       "      <td>바나나롤러스케이트장</td>\n",
       "      <td>육상레저스포츠</td>\n",
       "      <td>3430</td>\n",
       "    </tr>\n",
       "    <tr>\n",
       "      <th>97</th>\n",
       "      <td>봉봉키즈카페강서점</td>\n",
       "      <td>테마공원</td>\n",
       "      <td>3424</td>\n",
       "    </tr>\n",
       "    <tr>\n",
       "      <th>98</th>\n",
       "      <td>호텔딘</td>\n",
       "      <td>모텔</td>\n",
       "      <td>3343</td>\n",
       "    </tr>\n",
       "    <tr>\n",
       "      <th>99</th>\n",
       "      <td>베스트웨스턴나이아가라관광호텔</td>\n",
       "      <td>호텔</td>\n",
       "      <td>3331</td>\n",
       "    </tr>\n",
       "  </tbody>\n",
       "</table>\n",
       "<p>100 rows × 3 columns</p>\n",
       "</div>"
      ],
      "text/plain": [
       "               관광지명       분류  외지인 검색 수\n",
       "0         김포국제공항국내선     교통시설   4520784\n",
       "1            김포국제공항     교통시설   2101877\n",
       "2          롯데몰김포공항점      쇼핑몰   1435813\n",
       "3         강서농산물도매시장       시장    706491\n",
       "4          NC백화점강서점      백화점    624324\n",
       "..              ...      ...       ...\n",
       "95            모텔플라워       모텔      3454\n",
       "96       바나나롤러스케이트장  육상레저스포츠      3430\n",
       "97        봉봉키즈카페강서점     테마공원      3424\n",
       "98              호텔딘       모텔      3343\n",
       "99  베스트웨스턴나이아가라관광호텔       호텔      3331\n",
       "\n",
       "[100 rows x 3 columns]"
      ]
     },
     "execution_count": 113,
     "metadata": {},
     "output_type": "execute_result"
    }
   ],
   "source": [
    "per_out_df[['관광지명', '분류', '외지인 검색 수']]"
   ]
  },
  {
   "cell_type": "code",
   "execution_count": 137,
   "metadata": {},
   "outputs": [
    {
     "name": "stdout",
     "output_type": "stream",
     "text": [
      "2544514 13924281\n",
      "15.450517175057435\n",
      "84.54948282494257\n",
      "100.0\n"
     ]
    }
   ],
   "source": [
    "a = sum(per_in_df['현지인 검색 수'])\n",
    "b = sum(per_out_df['외지인 검색 수'])\n",
    "c = a+b\n",
    "print(a, b)\n",
    "print(a/c*100)\n",
    "print(b/c*100)\n",
    "print(a/c*100+b/c*100)"
   ]
  },
  {
   "cell_type": "code",
   "execution_count": 136,
   "metadata": {},
   "outputs": [
    {
     "data": {
      "image/png": "[encoded data removed]",
      "text/plain": [
       "<Figure size 432x288 with 1 Axes>"
      ]
     },
     "metadata": {},
     "output_type": "display_data"
    }
   ],
   "source": [
    "ratio = [a/c*100,b/c*100]\n",
    "labels = ['강서구 방문 주민', '강서구 방문 외지인']\n",
    "colors = ['plum', 'thistle']\n",
    "explode = [0.05, 0.05]\n",
    "wedgeprops={'width': 0.7, 'edgecolor': 'w', 'linewidth': 1}\n",
    "\n",
    "plt.pie(ratio, labels=labels, autopct='%.1f%%', explode=explode, colors=colors, wedgeprops=wedgeprops)\n",
    "plt.show()"
   ]
  },
  {
   "cell_type": "code",
   "execution_count": 139,
   "metadata": {},
   "outputs": [
    {
     "data": {
      "text/html": [
       "<div>\n",
       "<style scoped>\n",
       "    .dataframe tbody tr th:only-of-type {\n",
       "        vertical-align: middle;\n",
       "    }\n",
       "\n",
       "    .dataframe tbody tr th {\n",
       "        vertical-align: top;\n",
       "    }\n",
       "\n",
       "    .dataframe thead th {\n",
       "        text-align: right;\n",
       "    }\n",
       "</style>\n",
       "<table border=\"1\" class=\"dataframe\">\n",
       "  <thead>\n",
       "    <tr style=\"text-align: right;\">\n",
       "      <th></th>\n",
       "      <th>분류</th>\n",
       "      <th>관광지명</th>\n",
       "    </tr>\n",
       "  </thead>\n",
       "  <tbody>\n",
       "    <tr>\n",
       "      <th>0</th>\n",
       "      <td>교통시설</td>\n",
       "      <td>김포국제공항국내선</td>\n",
       "    </tr>\n",
       "    <tr>\n",
       "      <th>1</th>\n",
       "      <td>쇼핑몰</td>\n",
       "      <td>롯데몰김포공항점</td>\n",
       "    </tr>\n",
       "    <tr>\n",
       "      <th>2</th>\n",
       "      <td>대형마트</td>\n",
       "      <td>이마트가양점</td>\n",
       "    </tr>\n",
       "    <tr>\n",
       "      <th>3</th>\n",
       "      <td>백화점</td>\n",
       "      <td>NC백화점강서점</td>\n",
       "    </tr>\n",
       "    <tr>\n",
       "      <th>4</th>\n",
       "      <td>교통시설</td>\n",
       "      <td>김포국제공항</td>\n",
       "    </tr>\n",
       "    <tr>\n",
       "      <th>...</th>\n",
       "      <td>...</td>\n",
       "      <td>...</td>\n",
       "    </tr>\n",
       "    <tr>\n",
       "      <th>95</th>\n",
       "      <td>공연시설</td>\n",
       "      <td>강서구민회관우장홀</td>\n",
       "    </tr>\n",
       "    <tr>\n",
       "      <th>96</th>\n",
       "      <td>호텔</td>\n",
       "      <td>리버파크관광호텔</td>\n",
       "    </tr>\n",
       "    <tr>\n",
       "      <th>97</th>\n",
       "      <td>모텔</td>\n",
       "      <td>BJ호텔</td>\n",
       "    </tr>\n",
       "    <tr>\n",
       "      <th>98</th>\n",
       "      <td>종교성지</td>\n",
       "      <td>미타사</td>\n",
       "    </tr>\n",
       "    <tr>\n",
       "      <th>99</th>\n",
       "      <td>도시공원</td>\n",
       "      <td>서남물재생센터공원</td>\n",
       "    </tr>\n",
       "  </tbody>\n",
       "</table>\n",
       "<p>100 rows × 2 columns</p>\n",
       "</div>"
      ],
      "text/plain": [
       "      분류       관광지명\n",
       "0   교통시설  김포국제공항국내선\n",
       "1    쇼핑몰   롯데몰김포공항점\n",
       "2   대형마트     이마트가양점\n",
       "3    백화점   NC백화점강서점\n",
       "4   교통시설     김포국제공항\n",
       "..   ...        ...\n",
       "95  공연시설  강서구민회관우장홀\n",
       "96    호텔   리버파크관광호텔\n",
       "97    모텔       BJ호텔\n",
       "98  종교성지        미타사\n",
       "99  도시공원  서남물재생센터공원\n",
       "\n",
       "[100 rows x 2 columns]"
      ]
     },
     "execution_count": 139,
     "metadata": {},
     "output_type": "execute_result"
    }
   ],
   "source": [
    "per_in_df[['분류', '관광지명']]"
   ]
  },
  {
   "cell_type": "code",
   "execution_count": 143,
   "metadata": {},
   "outputs": [],
   "source": [
    "per_in_df['방문자 분류'] = '주민'\n",
    "per_out_df['방문자 분류'] = '외지인'"
   ]
  },
  {
   "cell_type": "code",
   "execution_count": 150,
   "metadata": {},
   "outputs": [
    {
     "data": {
      "text/html": [
       "<div>\n",
       "<style scoped>\n",
       "    .dataframe tbody tr th:only-of-type {\n",
       "        vertical-align: middle;\n",
       "    }\n",
       "\n",
       "    .dataframe tbody tr th {\n",
       "        vertical-align: top;\n",
       "    }\n",
       "\n",
       "    .dataframe thead th {\n",
       "        text-align: right;\n",
       "    }\n",
       "</style>\n",
       "<table border=\"1\" class=\"dataframe\">\n",
       "  <thead>\n",
       "    <tr style=\"text-align: right;\">\n",
       "      <th></th>\n",
       "      <th>분류</th>\n",
       "      <th>방문자 분류</th>\n",
       "    </tr>\n",
       "  </thead>\n",
       "  <tbody>\n",
       "    <tr>\n",
       "      <th>0</th>\n",
       "      <td>교통시설</td>\n",
       "      <td>주민</td>\n",
       "    </tr>\n",
       "    <tr>\n",
       "      <th>1</th>\n",
       "      <td>쇼핑몰</td>\n",
       "      <td>주민</td>\n",
       "    </tr>\n",
       "    <tr>\n",
       "      <th>2</th>\n",
       "      <td>대형마트</td>\n",
       "      <td>주민</td>\n",
       "    </tr>\n",
       "    <tr>\n",
       "      <th>3</th>\n",
       "      <td>백화점</td>\n",
       "      <td>주민</td>\n",
       "    </tr>\n",
       "    <tr>\n",
       "      <th>4</th>\n",
       "      <td>교통시설</td>\n",
       "      <td>주민</td>\n",
       "    </tr>\n",
       "    <tr>\n",
       "      <th>...</th>\n",
       "      <td>...</td>\n",
       "      <td>...</td>\n",
       "    </tr>\n",
       "    <tr>\n",
       "      <th>95</th>\n",
       "      <td>모텔</td>\n",
       "      <td>외지인</td>\n",
       "    </tr>\n",
       "    <tr>\n",
       "      <th>96</th>\n",
       "      <td>육상레저스포츠</td>\n",
       "      <td>외지인</td>\n",
       "    </tr>\n",
       "    <tr>\n",
       "      <th>97</th>\n",
       "      <td>테마공원</td>\n",
       "      <td>외지인</td>\n",
       "    </tr>\n",
       "    <tr>\n",
       "      <th>98</th>\n",
       "      <td>모텔</td>\n",
       "      <td>외지인</td>\n",
       "    </tr>\n",
       "    <tr>\n",
       "      <th>99</th>\n",
       "      <td>호텔</td>\n",
       "      <td>외지인</td>\n",
       "    </tr>\n",
       "  </tbody>\n",
       "</table>\n",
       "<p>200 rows × 2 columns</p>\n",
       "</div>"
      ],
      "text/plain": [
       "         분류 방문자 분류\n",
       "0      교통시설     주민\n",
       "1       쇼핑몰     주민\n",
       "2      대형마트     주민\n",
       "3       백화점     주민\n",
       "4      교통시설     주민\n",
       "..      ...    ...\n",
       "95       모텔    외지인\n",
       "96  육상레저스포츠    외지인\n",
       "97     테마공원    외지인\n",
       "98       모텔    외지인\n",
       "99       호텔    외지인\n",
       "\n",
       "[200 rows x 2 columns]"
      ]
     },
     "execution_count": 150,
     "metadata": {},
     "output_type": "execute_result"
    }
   ],
   "source": [
    "merge_per_inout = pd.concat([per_in_df, per_out_df])\n",
    "merge_per_inout[['분류', '방문자 분류']]"
   ]
  },
  {
   "cell_type": "code",
   "execution_count": 163,
   "metadata": {},
   "outputs": [
    {
     "data": {
      "text/plain": [
       "{'공연시설': 8,\n",
       " '대형마트': 4,\n",
       " '레저스포츠시설': 2,\n",
       " '종교성지': 8,\n",
       " '역사유적지': 1,\n",
       " '호텔': 20,\n",
       " '모텔': 20,\n",
       " '백화점': 2,\n",
       " '호스텔': 1,\n",
       " '육상레저스포츠': 3,\n",
       " '쇼핑몰': 1,\n",
       " '시장': 8,\n",
       " '테마공원': 7,\n",
       " '전시시설': 4,\n",
       " '교통시설': 4,\n",
       " '도시공원': 7}"
      ]
     },
     "execution_count": 163,
     "metadata": {},
     "output_type": "execute_result"
    }
   ],
   "source": [
    "per_in_bun = {}\n",
    "for i in list(set(per_in_df['분류'])):\n",
    "    per_in_bun[i] = len(per_in_df[per_in_df['분류'] == i])\n",
    "per_in_bun"
   ]
  },
  {
   "cell_type": "code",
   "execution_count": 194,
   "metadata": {},
   "outputs": [
    {
     "data": {
      "text/plain": [
       "['공연시설',\n",
       " '대형마트',\n",
       " '레저스포츠시설',\n",
       " '종교성지',\n",
       " '역사유적지',\n",
       " '호텔',\n",
       " '모텔',\n",
       " '백화점',\n",
       " '호스텔',\n",
       " '육상레저스포츠',\n",
       " '쇼핑몰',\n",
       " '시장',\n",
       " '테마공원',\n",
       " '전시시설',\n",
       " '교통시설',\n",
       " '도시공원']"
      ]
     },
     "execution_count": 194,
     "metadata": {},
     "output_type": "execute_result"
    }
   ],
   "source": [
    "list(per_in_bun.keys())"
   ]
  },
  {
   "cell_type": "code",
   "execution_count": 166,
   "metadata": {
    "scrolled": true
   },
   "outputs": [
    {
     "data": {
      "text/plain": [
       "{'공연시설': 7,\n",
       " '대형마트': 4,\n",
       " '랜드마크관광': 1,\n",
       " '레저스포츠시설': 2,\n",
       " '종교성지': 5,\n",
       " '역사유적지': 1,\n",
       " '호텔': 23,\n",
       " '모텔': 23,\n",
       " '백화점': 2,\n",
       " '호스텔': 1,\n",
       " '육상레저스포츠': 3,\n",
       " '쇼핑몰': 1,\n",
       " '시장': 8,\n",
       " '테마공원': 7,\n",
       " '전시시설': 4,\n",
       " '교통시설': 3,\n",
       " '도시공원': 5}"
      ]
     },
     "execution_count": 166,
     "metadata": {},
     "output_type": "execute_result"
    }
   ],
   "source": [
    "per_out_bun = {}\n",
    "for i in list(set(per_out_df['분류'])):\n",
    "    per_out_bun[i] = len(per_out_df[per_out_df['분류'] == i])\n",
    "per_out_bun"
   ]
  },
  {
   "cell_type": "code",
   "execution_count": 210,
   "metadata": {
    "scrolled": true
   },
   "outputs": [
    {
     "name": "stdout",
     "output_type": "stream",
     "text": [
      "[1, 3, 5, 7, 9, 11, 13, 15, 17, 19, 21, 23, 25, 27, 29, 31, 33]\n",
      "[2, 4, 6, 8, 10, 12, 14, 16, 18, 20, 22, 24, 26, 28, 30, 32, 34]\n"
     ]
    }
   ],
   "source": [
    "idx = []\n",
    "count = 0\n",
    "for i in range(len(per_out_bun)):\n",
    "    idx.append(i+1+count)\n",
    "    count += 1\n",
    "\n",
    "idx2 = []\n",
    "count = 0\n",
    "for i in range(len(per_out_bun)):\n",
    "    idx2.append(i+2+count)\n",
    "    count += 1\n",
    "print(idx)\n",
    "print(idx2)"
   ]
  },
  {
   "cell_type": "code",
   "execution_count": 220,
   "metadata": {},
   "outputs": [],
   "source": [
    "idx = np.arange(200)"
   ]
  },
  {
   "cell_type": "code",
   "execution_count": 230,
   "metadata": {},
   "outputs": [
    {
     "data": {
      "text/plain": [
       "<BarContainer object of 16 artists>"
      ]
     },
     "execution_count": 230,
     "metadata": {},
     "output_type": "execute_result"
    },
    {
     "data": {
      "image/png": "[encoded data removed]",
      "text/plain": [
       "<Figure size 720x360 with 1 Axes>"
      ]
     },
     "metadata": {
      "needs_background": "light"
     },
     "output_type": "display_data"
    }
   ],
   "source": [
    "w = 0.25\n",
    "\n",
    "plt.rcParams['font.family'] = 'Malgun Gothic'\n",
    "plt.figure(figsize=(10, 5))\n",
    "plt.title('강서구 방문자별 방문 지역')\n",
    "plt.xlabel('방문 지역')\n",
    "plt.ylabel('횟수')\n",
    "plt.xticks(rotation=45)\n",
    "plt.bar(per_out_bun.keys(), per_out_bun.values(), color='cadetblue', label='외지인')\n",
    "plt.bar(per_in_bun.keys(), per_in_bun.values(), color='salmon', width = 0.5, label='강서구 주민')"
   ]
  },
  {
   "cell_type": "code",
   "execution_count": 227,
   "metadata": {},
   "outputs": [
    {
     "ename": "SyntaxError",
     "evalue": "positional argument follows keyword argument (<ipython-input-227-dd41246cc492>, line 14)",
     "output_type": "error",
     "traceback": [
      "\u001b[1;36m  File \u001b[1;32m\"<ipython-input-227-dd41246cc492>\"\u001b[1;36m, line \u001b[1;32m14\u001b[0m\n\u001b[1;33m    plt.xticks(idx, rotation=45, [per_in_bun.keys()])\u001b[0m\n\u001b[1;37m                                 ^\u001b[0m\n\u001b[1;31mSyntaxError\u001b[0m\u001b[1;31m:\u001b[0m positional argument follows keyword argument\n"
     ]
    }
   ],
   "source": [
    "idx = np.arange(200)\n",
    "\n",
    "plt.rcParams['font.family'] = 'Malgun Gothic'\n",
    "plt.figure(figsize=(10, 5))\n",
    "plt.title('강서구 방문자별 방문 지역')\n",
    "\n",
    "w = 0.25\n",
    "plt.bar(idx-w, per_out_bun.values(), color='cadetblue', label='외지인')\n",
    "plt.bar(idx+w, per_in_bun.values(), color='salmon', label='강서구 주민')\n",
    "\n",
    "plt.xlabel('방문 지역')\n",
    "plt.ylabel('횟수')\n",
    "\n",
    "plt.xticks(idx, rotation=45, [per_in_bun.keys()])\n",
    "plt.show()"
   ]
  },
  {
   "cell_type": "code",
   "execution_count": null,
   "metadata": {},
   "outputs": [],
   "source": []
  },
  {
   "cell_type": "code",
   "execution_count": null,
   "metadata": {},
   "outputs": [],
   "source": []
  },
  {
   "cell_type": "code",
   "execution_count": null,
   "metadata": {},
   "outputs": [],
   "source": []
  },
  {
   "cell_type": "code",
   "execution_count": null,
   "metadata": {},
   "outputs": [],
   "source": []
  },
  {
   "cell_type": "code",
   "execution_count": null,
   "metadata": {},
   "outputs": [],
   "source": []
  },
  {
   "cell_type": "code",
   "execution_count": null,
   "metadata": {},
   "outputs": [],
   "source": []
  },
  {
   "cell_type": "code",
   "execution_count": null,
   "metadata": {},
   "outputs": [],
   "source": []
  },
  {
   "cell_type": "code",
   "execution_count": null,
   "metadata": {},
   "outputs": [],
   "source": []
  },
  {
   "cell_type": "code",
   "execution_count": null,
   "metadata": {},
   "outputs": [],
   "source": []
  },
  {
   "cell_type": "code",
   "execution_count": null,
   "metadata": {},
   "outputs": [],
   "source": []
  },
  {
   "cell_type": "code",
   "execution_count": null,
   "metadata": {},
   "outputs": [],
   "source": []
  },
  {
   "cell_type": "code",
   "execution_count": null,
   "metadata": {},
   "outputs": [],
   "source": []
  },
  {
   "cell_type": "code",
   "execution_count": null,
   "metadata": {},
   "outputs": [],
   "source": []
  },
  {
   "cell_type": "code",
   "execution_count": null,
   "metadata": {},
   "outputs": [],
   "source": []
  },
  {
   "cell_type": "code",
   "execution_count": null,
   "metadata": {},
   "outputs": [],
   "source": []
  },
  {
   "cell_type": "code",
   "execution_count": null,
   "metadata": {},
   "outputs": [],
   "source": []
  },
  {
   "cell_type": "code",
   "execution_count": null,
   "metadata": {},
   "outputs": [],
   "source": []
  }
 ],
 "metadata": {
  "kernelspec": {
   "display_name": "Python 3",
   "language": "python",
   "name": "python3"
  },
  "language_info": {
   "codemirror_mode": {
    "name": "ipython",
    "version": 3
   },
   "file_extension": ".py",
   "mimetype": "text/x-python",
   "name": "python",
   "nbconvert_exporter": "python",
   "pygments_lexer": "ipython3",
   "version": "3.8.3"
  }
 },
 "nbformat": 4,
 "nbformat_minor": 4
}
