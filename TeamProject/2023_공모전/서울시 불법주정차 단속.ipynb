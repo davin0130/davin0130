{
 "cells": [
  {
   "cell_type": "code",
   "execution_count": 1,
   "metadata": {},
   "outputs": [],
   "source": [
    "import pandas as pd\n",
    "from matplotlib import pyplot as plt\n",
    "import numpy as np\n",
    "import re\n",
    "from sklearn.cluster import KMeans\n",
    "from sklearn.preprocessing import StandardScaler\n",
    "import re"
   ]
  },
  {
   "cell_type": "code",
   "execution_count": 4,
   "metadata": {},
   "outputs": [],
   "source": [
    "PATH = 'C:/Users/davin/Downloads/서울시 불법주정차 단속/'\n",
    "\n",
    "gangnam = PATH + '강남구.csv'\n",
    "gangdong = PATH + '강동구.csv'\n",
    "gangbuk = PATH + '강북구.csv'\n",
    "gangseo = PATH + '강서구.csv'\n",
    "gwanak = PATH + '관악구.csv'\n",
    "gwangjin = PATH + '광진구.csv'\n",
    "guro = PATH + '구로구.csv'\n",
    "geumcheon = PATH + '금천구.csv'\n",
    "nowon = PATH + '노원구.csv'\n",
    "dobong = PATH + '도봉구.csv'\n",
    "dongdaemun = PATH + '동대문구.csv'\n",
    "dongjak = PATH + '동작구.csv'\n",
    "mapo = PATH + '마포구.csv'\n",
    "seodaemun = PATH + '서대문구.csv'\n",
    "seocho = PATH + '서초구.csv'\n",
    "seongbuk = PATH + '성북구.csv'\n",
    "yangcheon = PATH + '양천구.csv'\n",
    "yeongduengpo = PATH + '영등포구.csv'\n",
    "yongsan = PATH + '용산구.csv'\n",
    "eunpyeong = PATH + '은평구.csv'\n",
    "jungrang = PATH + '중랑구.csv'"
   ]
  },
  {
   "cell_type": "code",
   "execution_count": 5,
   "metadata": {},
   "outputs": [],
   "source": [
    "gangnam_df    = pd.read_csv(gangnam, encoding='cp949')\n",
    "gangdong_df   = pd.read_csv(gangdong, encoding='cp949')\n",
    "gangbuk_df    = pd.read_csv(gangbuk, encoding='cp949')\n",
    "gangseo_df    = pd.read_csv(gangseo, encoding='cp949')\n",
    "gwanak_df     = pd.read_csv(gwanak, encoding='cp949')\n",
    "gwangjin_df   = pd.read_csv(gwangjin, encoding='cp949')\n",
    "guro_df       = pd.read_csv(guro, encoding='cp949')\n",
    "geumcheon_df  = pd.read_csv(geumcheon, encoding='cp949')\n",
    "nowon_df      = pd.read_csv(nowon, encoding='cp949')\n",
    "dobong_df     = pd.read_csv(dobong, encoding='cp949')\n",
    "dongdaemun_df = pd.read_csv(dongdaemun, encoding='cp949')\n",
    "dongjak_df    = pd.read_csv(dongjak, encoding='cp949')\n",
    "mapo_df       = pd.read_csv(mapo, encoding='cp949')\n",
    "seodaemun_df  = pd.read_csv(seodaemun, encoding='cp949')\n",
    "seocho_df     = pd.read_csv(seocho, encoding='cp949')\n",
    "seongbuk_df   = pd.read_csv(seongbuk, encoding='cp949')\n",
    "yangcheon_df  = pd.read_csv(yangcheon, encoding='cp949')\n",
    "yeongduengpo_df = pd.read_csv(yeongduengpo, encoding='cp949')\n",
    "yongsan_df    = pd.read_csv(yongsan, encoding='cp949')\n",
    "eunpyeong_df  = pd.read_csv(eunpyeong, encoding='cp949')\n",
    "jungrang_df   = pd.read_csv(jungrang, encoding='cp949')"
   ]
  },
  {
   "cell_type": "code",
   "execution_count": 12,
   "metadata": {},
   "outputs": [
    {
     "name": "stdout",
     "output_type": "stream",
     "text": [
      "강남 Index(['연도', '동명', '부과건수', '견인건수', '단속원금(원)', '데이터기준일자'], dtype='object')\n",
      "강동 Index(['단속동', '단속건수', '기준일자'], dtype='object')\n",
      "강북 Index(['연도', '통계기준', '견인건수', '단속건수', '단속원금(원)'], dtype='object')\n",
      "강서 Index(['단속년도', '시군구명', '행정동명', '과태료명', '단속건수'], dtype='object')\n",
      "관악 Index(['기관', '과태료명', '단속년월', '단속건수', '단속원금'], dtype='object')\n",
      "광진 Index(['단속일시', '단속원금', '단속동', '단속장소', '위반내용', '견인지시', '데이터기준일자'], dtype='object')\n",
      "구로 Index(['단속연도', '단속동', '단속건수', '단속금액', '견인건수'], dtype='object')\n",
      "금천 Index(['단속연월', '단속건수(건)'], dtype='object')\n",
      "노원 Index(['단속일시', '단속원금', '단속동', '단속장소', '위반내용', '견인지시', '관리부서', '기준일자'], dtype='object')\n",
      "도봉 Index(['연도', '도봉동', '방학동', '쌍문동', '창동'], dtype='object')\n",
      "동대문 Index(['월_년', '2011년', '2012년', '2013년', '2014년', '2015년', '2016년', '2017년',\n",
      "       '2018년', '2019년', '2020년', '2021년'],\n",
      "      dtype='object')\n",
      "동작 Index(['구분', '계', '1월', '2월', '3월', '4월', '5월', '6월', '7월', '8월', '9월', '10월',\n",
      "       '11월', '12월'],\n",
      "      dtype='object')\n",
      "마포 Index(['시도명', '시군구명', '단속년월', '단속건수', '데이터기준일', 'Unnamed: 5'], dtype='object')\n",
      "서대문 Index(['단속동', '특별구역', '위반내용', '차종'], dtype='object')\n",
      "서초 Index(['시군구명', '단속연월', '단속건수'], dtype='object')\n",
      "성북 Index(['연번', '기간', '단속건수'], dtype='object')\n",
      "양천 Index(['설치번호', '행정구역', '도로명', '단속구간(방향)', '설치지점(지번주소)', '설치지점(도로명주소)', '명칭',\n",
      "       '설치년도', '단속방식'],\n",
      "      dtype='object')\n",
      "영등포 Index(['단속년도', '시군구명', '단속동', '단속건수'], dtype='object')\n",
      "용산 Index(['단속일시', '단속구분', '단속동', '단속장소', '단속원금', '위반내용'], dtype='object')\n",
      "은평 Index(['시도명', '시군구명', '단속년월', '단속건수'], dtype='object')\n",
      "중랑 Index(['시도명', '시군구명', '단속년월', '단속건수'], dtype='object')\n"
     ]
    }
   ],
   "source": [
    "print('강남', gangnam_df.columns)\n",
    "print('강동', gangdong_df.columns)\n",
    "print('강북', gangbuk_df.columns)\n",
    "print('강서', gangseo_df.columns)\n",
    "print('관악', gwanak_df.columns)\n",
    "print('광진', gwangjin_df.columns)\n",
    "print('구로', guro_df.columns)\n",
    "print('금천', geumcheon_df.columns)\n",
    "print('노원', nowon_df.columns)\n",
    "print('도봉', dobong_df.columns)\n",
    "print('동대문', dongdaemun_df.columns)\n",
    "print('동작', dongjak_df.columns)\n",
    "print('마포', mapo_df.columns)\n",
    "print('서대문', seodaemun_df.columns)\n",
    "print('서초', seocho_df.columns)\n",
    "print('성북', seongbuk_df.columns)\n",
    "print('양천', yangcheon_df.columns)\n",
    "print('영등포', yeongduengpo_df.columns)\n",
    "print('용산', yongsan_df.columns)\n",
    "print('은평', eunpyeong_df.columns)\n",
    "print('중랑', jungrang_df.columns)"
   ]
  },
  {
   "cell_type": "code",
   "execution_count": 34,
   "metadata": {},
   "outputs": [
    {
     "data": {
      "text/html": [
       "<div>\n",
       "<style scoped>\n",
       "    .dataframe tbody tr th:only-of-type {\n",
       "        vertical-align: middle;\n",
       "    }\n",
       "\n",
       "    .dataframe tbody tr th {\n",
       "        vertical-align: top;\n",
       "    }\n",
       "\n",
       "    .dataframe thead th {\n",
       "        text-align: right;\n",
       "    }\n",
       "</style>\n",
       "<table border=\"1\" class=\"dataframe\">\n",
       "  <thead>\n",
       "    <tr style=\"text-align: right;\">\n",
       "      <th></th>\n",
       "      <th>시도명</th>\n",
       "      <th>시군구명</th>\n",
       "      <th>단속년월</th>\n",
       "      <th>단속건수</th>\n",
       "    </tr>\n",
       "  </thead>\n",
       "  <tbody>\n",
       "    <tr>\n",
       "      <th>0</th>\n",
       "      <td>서울특별시</td>\n",
       "      <td>중랑구</td>\n",
       "      <td>2011-01</td>\n",
       "      <td>2560</td>\n",
       "    </tr>\n",
       "    <tr>\n",
       "      <th>1</th>\n",
       "      <td>서울특별시</td>\n",
       "      <td>중랑구</td>\n",
       "      <td>2011-02</td>\n",
       "      <td>3854</td>\n",
       "    </tr>\n",
       "    <tr>\n",
       "      <th>2</th>\n",
       "      <td>서울특별시</td>\n",
       "      <td>중랑구</td>\n",
       "      <td>2011-03</td>\n",
       "      <td>5789</td>\n",
       "    </tr>\n",
       "    <tr>\n",
       "      <th>3</th>\n",
       "      <td>서울특별시</td>\n",
       "      <td>중랑구</td>\n",
       "      <td>2011-04</td>\n",
       "      <td>4362</td>\n",
       "    </tr>\n",
       "    <tr>\n",
       "      <th>4</th>\n",
       "      <td>서울특별시</td>\n",
       "      <td>중랑구</td>\n",
       "      <td>2011-05</td>\n",
       "      <td>3913</td>\n",
       "    </tr>\n",
       "    <tr>\n",
       "      <th>...</th>\n",
       "      <td>...</td>\n",
       "      <td>...</td>\n",
       "      <td>...</td>\n",
       "      <td>...</td>\n",
       "    </tr>\n",
       "    <tr>\n",
       "      <th>127</th>\n",
       "      <td>서울특별시</td>\n",
       "      <td>중랑구</td>\n",
       "      <td>2021-08</td>\n",
       "      <td>3370</td>\n",
       "    </tr>\n",
       "    <tr>\n",
       "      <th>128</th>\n",
       "      <td>서울특별시</td>\n",
       "      <td>중랑구</td>\n",
       "      <td>2021-09</td>\n",
       "      <td>3113</td>\n",
       "    </tr>\n",
       "    <tr>\n",
       "      <th>129</th>\n",
       "      <td>서울특별시</td>\n",
       "      <td>중랑구</td>\n",
       "      <td>2021-10</td>\n",
       "      <td>3541</td>\n",
       "    </tr>\n",
       "    <tr>\n",
       "      <th>130</th>\n",
       "      <td>서울특별시</td>\n",
       "      <td>중랑구</td>\n",
       "      <td>2021-11</td>\n",
       "      <td>3660</td>\n",
       "    </tr>\n",
       "    <tr>\n",
       "      <th>131</th>\n",
       "      <td>서울특별시</td>\n",
       "      <td>중랑구</td>\n",
       "      <td>2021-12</td>\n",
       "      <td>3816</td>\n",
       "    </tr>\n",
       "  </tbody>\n",
       "</table>\n",
       "<p>132 rows × 4 columns</p>\n",
       "</div>"
      ],
      "text/plain": [
       "         시도명   시군구명     단속년월  단속건수\n",
       "0     서울특별시    중랑구   2011-01  2560\n",
       "1     서울특별시    중랑구   2011-02  3854\n",
       "2     서울특별시    중랑구   2011-03  5789\n",
       "3     서울특별시    중랑구   2011-04  4362\n",
       "4     서울특별시    중랑구   2011-05  3913\n",
       "..       ...    ...      ...   ...\n",
       "127   서울특별시    중랑구   2021-08  3370\n",
       "128   서울특별시    중랑구   2021-09  3113\n",
       "129   서울특별시    중랑구   2021-10  3541\n",
       "130   서울특별시    중랑구   2021-11  3660\n",
       "131   서울특별시    중랑구   2021-12  3816\n",
       "\n",
       "[132 rows x 4 columns]"
      ]
     },
     "execution_count": 34,
     "metadata": {},
     "output_type": "execute_result"
    }
   ],
   "source": [
    "# gangnam_df\n",
    "# ok\n",
    "\n",
    "# gangdong_df\n",
    "# 2020년 자료밖에 없음\n",
    "\n",
    "# gangbuk_df\n",
    "# ok\n",
    "\n",
    "# gangseo_df\n",
    "# ok\n",
    "\n",
    "# gwanak_df\n",
    "# ok\n",
    "\n",
    "# gwangjin_df\n",
    "# ok\n",
    "\n",
    "# guro_df\n",
    "# ok\n",
    "\n",
    "# geumcheon_df\n",
    "# ok\n",
    "\n",
    "# nowon_df\n",
    "# ok\n",
    "\n",
    "# dobong_df\n",
    "#2017-18년도 밖에 없음\n",
    "\n",
    "# dongdaemun_df\n",
    "# ok\n",
    "\n",
    "# dongjak_df\n",
    "# ok\n",
    "\n",
    "# mapo_df\n",
    "# ok\n",
    "\n",
    "# seodaemun_df\n",
    "# 상세정보뿐, 년도/건수가 없음\n",
    "\n",
    "# seocho_df\n",
    "# ok\n",
    "\n",
    "# seongbuk_df\n",
    "# ok\n",
    "\n",
    "# yangcheon_df\n",
    "# cctv 설치 개수임 \n",
    "\n",
    "# yeongduengpo_df\n",
    "# ok\n",
    "\n",
    "# yongsan_df\n",
    "# ok\n",
    "\n",
    "# eunpyeong_df\n",
    "# ok\n",
    "\n",
    "# jungrang_df\n",
    "# ok"
   ]
  },
  {
   "cell_type": "code",
   "execution_count": 52,
   "metadata": {
    "scrolled": true
   },
   "outputs": [
    {
     "data": {
      "text/html": [
       "<div>\n",
       "<style scoped>\n",
       "    .dataframe tbody tr th:only-of-type {\n",
       "        vertical-align: middle;\n",
       "    }\n",
       "\n",
       "    .dataframe tbody tr th {\n",
       "        vertical-align: top;\n",
       "    }\n",
       "\n",
       "    .dataframe thead th {\n",
       "        text-align: right;\n",
       "    }\n",
       "</style>\n",
       "<table border=\"1\" class=\"dataframe\">\n",
       "  <thead>\n",
       "    <tr style=\"text-align: right;\">\n",
       "      <th></th>\n",
       "      <th>연도</th>\n",
       "      <th>단속건수</th>\n",
       "    </tr>\n",
       "  </thead>\n",
       "  <tbody>\n",
       "    <tr>\n",
       "      <th>0</th>\n",
       "      <td>2021</td>\n",
       "      <td>1139</td>\n",
       "    </tr>\n",
       "    <tr>\n",
       "      <th>1</th>\n",
       "      <td>2021</td>\n",
       "      <td>18606</td>\n",
       "    </tr>\n",
       "    <tr>\n",
       "      <th>2</th>\n",
       "      <td>2021</td>\n",
       "      <td>3</td>\n",
       "    </tr>\n",
       "    <tr>\n",
       "      <th>3</th>\n",
       "      <td>2021</td>\n",
       "      <td>2</td>\n",
       "    </tr>\n",
       "    <tr>\n",
       "      <th>4</th>\n",
       "      <td>2021</td>\n",
       "      <td>1</td>\n",
       "    </tr>\n",
       "    <tr>\n",
       "      <th>...</th>\n",
       "      <td>...</td>\n",
       "      <td>...</td>\n",
       "    </tr>\n",
       "    <tr>\n",
       "      <th>75</th>\n",
       "      <td>2017</td>\n",
       "      <td>4171</td>\n",
       "    </tr>\n",
       "    <tr>\n",
       "      <th>76</th>\n",
       "      <td>2017</td>\n",
       "      <td>20603</td>\n",
       "    </tr>\n",
       "    <tr>\n",
       "      <th>77</th>\n",
       "      <td>2017</td>\n",
       "      <td>6</td>\n",
       "    </tr>\n",
       "    <tr>\n",
       "      <th>78</th>\n",
       "      <td>2017</td>\n",
       "      <td>1037</td>\n",
       "    </tr>\n",
       "    <tr>\n",
       "      <th>79</th>\n",
       "      <td>2017</td>\n",
       "      <td>546</td>\n",
       "    </tr>\n",
       "  </tbody>\n",
       "</table>\n",
       "<p>80 rows × 2 columns</p>\n",
       "</div>"
      ],
      "text/plain": [
       "      연도   단속건수\n",
       "0   2021   1139\n",
       "1   2021  18606\n",
       "2   2021      3\n",
       "3   2021      2\n",
       "4   2021      1\n",
       "..   ...    ...\n",
       "75  2017   4171\n",
       "76  2017  20603\n",
       "77  2017      6\n",
       "78  2017   1037\n",
       "79  2017    546\n",
       "\n",
       "[80 rows x 2 columns]"
      ]
     },
     "execution_count": 52,
     "metadata": {},
     "output_type": "execute_result"
    }
   ],
   "source": [
    "gangbuk_df[['연도', '단속건수']]"
   ]
  },
  {
   "cell_type": "code",
   "execution_count": 51,
   "metadata": {},
   "outputs": [
    {
     "data": {
      "text/plain": [
       "{2017: 61815, 2018: 49366, 2019: 59384, 2020: 52906, 2021: 53297}"
      ]
     },
     "execution_count": 51,
     "metadata": {},
     "output_type": "execute_result"
    }
   ],
   "source": [
    "gangbuk_his = {}\n",
    "for i in range(len(set(gangbuk_df['연도']))):\n",
    "    gangbuk_his[list(set(gangbuk_df['연도']))[i]] = sum(gangbuk_df.loc[gangbuk_df['연도'] == list(set(gangbuk_df['연도']))[i], '단속건수'])\n",
    "\n",
    "gangbuk_his"
   ]
  },
  {
   "cell_type": "code",
   "execution_count": 53,
   "metadata": {
    "scrolled": true
   },
   "outputs": [
    {
     "data": {
      "text/plain": [
       "<BarContainer object of 5 artists>"
      ]
     },
     "execution_count": 53,
     "metadata": {},
     "output_type": "execute_result"
    },
    {
     "data": {
      "image/png": "[encoded data removed]",
      "text/plain": [
       "<Figure size 432x288 with 1 Axes>"
      ]
     },
     "metadata": {
      "needs_background": "light"
     },
     "output_type": "display_data"
    }
   ],
   "source": [
    "plt.rcParams['font.family'] = 'Malgun Gothic'\n",
    "plt.title('2017-2021년 강북구 불법주정차 단속건수')\n",
    "plt.xlabel('년도')\n",
    "plt.ylabel('건수')\n",
    "plt.xticks(rotation=45)\n",
    "plt.bar(gangbuk_his.keys(), gangbuk_his.values(), color='skyblue')"
   ]
  },
  {
   "cell_type": "code",
   "execution_count": 60,
   "metadata": {},
   "outputs": [
    {
     "data": {
      "text/plain": [
       "{2019: 108398, 2020: 84702, 2021: 89526}"
      ]
     },
     "execution_count": 60,
     "metadata": {},
     "output_type": "execute_result"
    }
   ],
   "source": [
    "gwanak_df['단속년월'] = pd.to_datetime(gwanak_df['단속년월'])\n",
    "gwanak_df['단속년'] = gwanak_df['단속년월'].dt.year\n",
    "\n",
    "gwanak_his = {}\n",
    "for i in range(len(set(gwanak_df['단속년']))):\n",
    "    gwanak_his[list(set(gwanak_df['단속년']))[i]] = sum(gwanak_df.loc[gwanak_df['단속년'] == list(set(gwanak_df['단속년']))[i], '단속건수'])\n",
    "\n",
    "gwanak_his"
   ]
  },
  {
   "cell_type": "code",
   "execution_count": 61,
   "metadata": {},
   "outputs": [
    {
     "data": {
      "text/plain": [
       "<BarContainer object of 3 artists>"
      ]
     },
     "execution_count": 61,
     "metadata": {},
     "output_type": "execute_result"
    },
    {
     "data": {
      "image/png": "[encoded data removed]",
      "text/plain": [
       "<Figure size 432x288 with 1 Axes>"
      ]
     },
     "metadata": {
      "needs_background": "light"
     },
     "output_type": "display_data"
    }
   ],
   "source": [
    "plt.rcParams['font.family'] = 'Malgun Gothic'\n",
    "plt.title('2019-2021년 관악구 불법주정차 단속건수')\n",
    "plt.xlabel('년도')\n",
    "plt.ylabel('건수')\n",
    "plt.xticks(rotation=45)\n",
    "plt.bar(gwanak_his.keys(), gwanak_his.values(), color='skyblue')"
   ]
  },
  {
   "cell_type": "code",
   "execution_count": 75,
   "metadata": {
    "scrolled": false
   },
   "outputs": [
    {
     "data": {
      "text/html": [
       "<div>\n",
       "<style scoped>\n",
       "    .dataframe tbody tr th:only-of-type {\n",
       "        vertical-align: middle;\n",
       "    }\n",
       "\n",
       "    .dataframe tbody tr th {\n",
       "        vertical-align: top;\n",
       "    }\n",
       "\n",
       "    .dataframe thead th {\n",
       "        text-align: right;\n",
       "    }\n",
       "</style>\n",
       "<table border=\"1\" class=\"dataframe\">\n",
       "  <thead>\n",
       "    <tr style=\"text-align: right;\">\n",
       "      <th></th>\n",
       "      <th>단속일시</th>\n",
       "      <th>단속원금</th>\n",
       "      <th>단속동</th>\n",
       "      <th>단속장소</th>\n",
       "      <th>위반내용</th>\n",
       "      <th>견인지시</th>\n",
       "      <th>데이터기준일자</th>\n",
       "      <th>단속년도</th>\n",
       "    </tr>\n",
       "  </thead>\n",
       "  <tbody>\n",
       "    <tr>\n",
       "      <th>0</th>\n",
       "      <td>2015-01-01 06:44:00</td>\n",
       "      <td>40000</td>\n",
       "      <td>화양동</td>\n",
       "      <td>119-4</td>\n",
       "      <td>주정차금지</td>\n",
       "      <td>견인처리</td>\n",
       "      <td>2022-06-10</td>\n",
       "      <td>2015</td>\n",
       "    </tr>\n",
       "    <tr>\n",
       "      <th>1</th>\n",
       "      <td>2015-01-01 07:01:00</td>\n",
       "      <td>40000</td>\n",
       "      <td>화양동</td>\n",
       "      <td>건대입구1번출구앞</td>\n",
       "      <td>32조내지 34조위반</td>\n",
       "      <td>미견인</td>\n",
       "      <td>2022-06-10</td>\n",
       "      <td>2015</td>\n",
       "    </tr>\n",
       "    <tr>\n",
       "      <th>2</th>\n",
       "      <td>2015-01-01 07:24:00</td>\n",
       "      <td>50000</td>\n",
       "      <td>구의동</td>\n",
       "      <td>동서울터미널 주차장앞</td>\n",
       "      <td>32조내지 34조위반</td>\n",
       "      <td>미견인</td>\n",
       "      <td>2022-06-10</td>\n",
       "      <td>2015</td>\n",
       "    </tr>\n",
       "    <tr>\n",
       "      <th>3</th>\n",
       "      <td>2015-01-01 08:00:00</td>\n",
       "      <td>40000</td>\n",
       "      <td>화양동</td>\n",
       "      <td>건대입구1번출구앞</td>\n",
       "      <td>32조내지 34조위반</td>\n",
       "      <td>미견인</td>\n",
       "      <td>2022-06-10</td>\n",
       "      <td>2015</td>\n",
       "    </tr>\n",
       "    <tr>\n",
       "      <th>4</th>\n",
       "      <td>2015-01-01 08:15:00</td>\n",
       "      <td>40000</td>\n",
       "      <td>화양동</td>\n",
       "      <td>건대입구1번출구앞</td>\n",
       "      <td>32조내지 34조위반</td>\n",
       "      <td>미견인</td>\n",
       "      <td>2022-06-10</td>\n",
       "      <td>2015</td>\n",
       "    </tr>\n",
       "    <tr>\n",
       "      <th>...</th>\n",
       "      <td>...</td>\n",
       "      <td>...</td>\n",
       "      <td>...</td>\n",
       "      <td>...</td>\n",
       "      <td>...</td>\n",
       "      <td>...</td>\n",
       "      <td>...</td>\n",
       "      <td>...</td>\n",
       "    </tr>\n",
       "    <tr>\n",
       "      <th>473069</th>\n",
       "      <td>2022-05-31 21:32:00</td>\n",
       "      <td>40000</td>\n",
       "      <td>구의동</td>\n",
       "      <td>지너스타워 주차장 앞</td>\n",
       "      <td>횡단보도</td>\n",
       "      <td>미견인</td>\n",
       "      <td>2022-06-10</td>\n",
       "      <td>2022</td>\n",
       "    </tr>\n",
       "    <tr>\n",
       "      <th>473070</th>\n",
       "      <td>2022-05-31 21:46:00</td>\n",
       "      <td>40000</td>\n",
       "      <td>구의동</td>\n",
       "      <td>서울특별시 광진구 자양로22길 24</td>\n",
       "      <td>횡단보도</td>\n",
       "      <td>미견인</td>\n",
       "      <td>2022-06-10</td>\n",
       "      <td>2022</td>\n",
       "    </tr>\n",
       "    <tr>\n",
       "      <th>473071</th>\n",
       "      <td>2022-05-31 21:46:00</td>\n",
       "      <td>40000</td>\n",
       "      <td>구의동</td>\n",
       "      <td>서울특별시 광진구 구의로16길 30</td>\n",
       "      <td>교통소통장애</td>\n",
       "      <td>미견인</td>\n",
       "      <td>2022-06-10</td>\n",
       "      <td>2022</td>\n",
       "    </tr>\n",
       "    <tr>\n",
       "      <th>473072</th>\n",
       "      <td>2022-05-31 22:51:00</td>\n",
       "      <td>40000</td>\n",
       "      <td>광장동</td>\n",
       "      <td>328-2</td>\n",
       "      <td>보도</td>\n",
       "      <td>미견인</td>\n",
       "      <td>2022-06-10</td>\n",
       "      <td>2022</td>\n",
       "    </tr>\n",
       "    <tr>\n",
       "      <th>473073</th>\n",
       "      <td>2022-05-31 23:36:00</td>\n",
       "      <td>40000</td>\n",
       "      <td>군자동</td>\n",
       "      <td>서울 광진구 군자동 498</td>\n",
       "      <td>보도</td>\n",
       "      <td>미견인</td>\n",
       "      <td>2022-06-10</td>\n",
       "      <td>2022</td>\n",
       "    </tr>\n",
       "  </tbody>\n",
       "</table>\n",
       "<p>473074 rows × 8 columns</p>\n",
       "</div>"
      ],
      "text/plain": [
       "                      단속일시   단속원금  단속동                 단속장소         위반내용  \\\n",
       "0      2015-01-01 06:44:00  40000  화양동                119-4        주정차금지   \n",
       "1      2015-01-01 07:01:00  40000  화양동            건대입구1번출구앞  32조내지 34조위반   \n",
       "2      2015-01-01 07:24:00  50000  구의동          동서울터미널 주차장앞  32조내지 34조위반   \n",
       "3      2015-01-01 08:00:00  40000  화양동            건대입구1번출구앞  32조내지 34조위반   \n",
       "4      2015-01-01 08:15:00  40000  화양동            건대입구1번출구앞  32조내지 34조위반   \n",
       "...                    ...    ...  ...                  ...          ...   \n",
       "473069 2022-05-31 21:32:00  40000  구의동          지너스타워 주차장 앞         횡단보도   \n",
       "473070 2022-05-31 21:46:00  40000  구의동  서울특별시 광진구 자양로22길 24         횡단보도   \n",
       "473071 2022-05-31 21:46:00  40000  구의동  서울특별시 광진구 구의로16길 30       교통소통장애   \n",
       "473072 2022-05-31 22:51:00  40000  광장동                328-2           보도   \n",
       "473073 2022-05-31 23:36:00  40000  군자동       서울 광진구 군자동 498           보도   \n",
       "\n",
       "        견인지시     데이터기준일자  단속년도  \n",
       "0       견인처리  2022-06-10  2015  \n",
       "1        미견인  2022-06-10  2015  \n",
       "2        미견인  2022-06-10  2015  \n",
       "3        미견인  2022-06-10  2015  \n",
       "4        미견인  2022-06-10  2015  \n",
       "...      ...         ...   ...  \n",
       "473069   미견인  2022-06-10  2022  \n",
       "473070   미견인  2022-06-10  2022  \n",
       "473071   미견인  2022-06-10  2022  \n",
       "473072   미견인  2022-06-10  2022  \n",
       "473073   미견인  2022-06-10  2022  \n",
       "\n",
       "[473074 rows x 8 columns]"
      ]
     },
     "execution_count": 75,
     "metadata": {},
     "output_type": "execute_result"
    }
   ],
   "source": [
    "gwangjin_df"
   ]
  },
  {
   "cell_type": "code",
   "execution_count": 85,
   "metadata": {},
   "outputs": [
    {
     "data": {
      "text/plain": [
       "{2016: 67621,\n",
       " 2017: 69991,\n",
       " 2018: 65633,\n",
       " 2019: 61281,\n",
       " 2020: 60545,\n",
       " 2021: 58757,\n",
       " 2022: 21875,\n",
       " 2015: 67371}"
      ]
     },
     "execution_count": 85,
     "metadata": {},
     "output_type": "execute_result"
    }
   ],
   "source": [
    "gwangjin_df['단속일시'] = pd.to_datetime(gwangjin_df['단속일시'])\n",
    "gwangjin_df['단속년도'] = gwangjin_df['단속일시'].dt.year\n",
    "gwangjin_his = {}\n",
    "for i in range(len(set(gwangjin_df['단속년도']))):\n",
    "    gwangjin_his[list(set(gwangjin_df['단속년도']))[i]] = len(gwangjin_df[gwangjin_df['단속년도'] == list(set(gwangjin_df['단속년도']))[i]])\n",
    "    \n",
    "gwangjin_his"
   ]
  },
  {
   "cell_type": "code",
   "execution_count": 87,
   "metadata": {},
   "outputs": [
    {
     "data": {
      "text/plain": [
       "<BarContainer object of 8 artists>"
      ]
     },
     "execution_count": 87,
     "metadata": {},
     "output_type": "execute_result"
    },
    {
     "data": {
      "image/png": "[encoded data removed]",
      "text/plain": [
       "<Figure size 432x288 with 1 Axes>"
      ]
     },
     "metadata": {
      "needs_background": "light"
     },
     "output_type": "display_data"
    }
   ],
   "source": [
    "plt.rcParams['font.family'] = 'Malgun Gothic'\n",
    "plt.title('2015-2022년 광진구 불법주정차 단속건수')\n",
    "plt.xlabel('년도')\n",
    "plt.ylabel('건수')\n",
    "plt.xticks(rotation=45)\n",
    "plt.bar(gwangjin_his.keys(), gwangjin_his.values(), color='skyblue')"
   ]
  },
  {
   "cell_type": "code",
   "execution_count": 89,
   "metadata": {
    "scrolled": true
   },
   "outputs": [
    {
     "data": {
      "text/html": [
       "<div>\n",
       "<style scoped>\n",
       "    .dataframe tbody tr th:only-of-type {\n",
       "        vertical-align: middle;\n",
       "    }\n",
       "\n",
       "    .dataframe tbody tr th {\n",
       "        vertical-align: top;\n",
       "    }\n",
       "\n",
       "    .dataframe thead th {\n",
       "        text-align: right;\n",
       "    }\n",
       "</style>\n",
       "<table border=\"1\" class=\"dataframe\">\n",
       "  <thead>\n",
       "    <tr style=\"text-align: right;\">\n",
       "      <th></th>\n",
       "      <th>단속연도</th>\n",
       "      <th>단속건수</th>\n",
       "    </tr>\n",
       "  </thead>\n",
       "  <tbody>\n",
       "    <tr>\n",
       "      <th>0</th>\n",
       "      <td>2017</td>\n",
       "      <td>8241</td>\n",
       "    </tr>\n",
       "    <tr>\n",
       "      <th>1</th>\n",
       "      <td>2017</td>\n",
       "      <td>9011</td>\n",
       "    </tr>\n",
       "    <tr>\n",
       "      <th>2</th>\n",
       "      <td>2017</td>\n",
       "      <td>10533</td>\n",
       "    </tr>\n",
       "    <tr>\n",
       "      <th>3</th>\n",
       "      <td>2017</td>\n",
       "      <td>13471</td>\n",
       "    </tr>\n",
       "    <tr>\n",
       "      <th>4</th>\n",
       "      <td>2017</td>\n",
       "      <td>11742</td>\n",
       "    </tr>\n",
       "    <tr>\n",
       "      <th>...</th>\n",
       "      <td>...</td>\n",
       "      <td>...</td>\n",
       "    </tr>\n",
       "    <tr>\n",
       "      <th>64</th>\n",
       "      <td>2022</td>\n",
       "      <td>8652</td>\n",
       "    </tr>\n",
       "    <tr>\n",
       "      <th>65</th>\n",
       "      <td>2022</td>\n",
       "      <td>7584</td>\n",
       "    </tr>\n",
       "    <tr>\n",
       "      <th>66</th>\n",
       "      <td>2022</td>\n",
       "      <td>6178</td>\n",
       "    </tr>\n",
       "    <tr>\n",
       "      <th>67</th>\n",
       "      <td>2022</td>\n",
       "      <td>1562</td>\n",
       "    </tr>\n",
       "    <tr>\n",
       "      <th>68</th>\n",
       "      <td>2022</td>\n",
       "      <td>1249</td>\n",
       "    </tr>\n",
       "  </tbody>\n",
       "</table>\n",
       "<p>69 rows × 2 columns</p>\n",
       "</div>"
      ],
      "text/plain": [
       "    단속연도   단속건수\n",
       "0   2017   8241\n",
       "1   2017   9011\n",
       "2   2017  10533\n",
       "3   2017  13471\n",
       "4   2017  11742\n",
       "..   ...    ...\n",
       "64  2022   8652\n",
       "65  2022   7584\n",
       "66  2022   6178\n",
       "67  2022   1562\n",
       "68  2022   1249\n",
       "\n",
       "[69 rows x 2 columns]"
      ]
     },
     "execution_count": 89,
     "metadata": {},
     "output_type": "execute_result"
    }
   ],
   "source": [
    "guro_df[['단속연도', '단속건수']]"
   ]
  },
  {
   "cell_type": "code",
   "execution_count": 90,
   "metadata": {},
   "outputs": [
    {
     "data": {
      "text/plain": [
       "{2017: 106147, 2018: 99485, 2019: 88986, 2020: 69558, 2021: 65096, 2022: 70155}"
      ]
     },
     "execution_count": 90,
     "metadata": {},
     "output_type": "execute_result"
    }
   ],
   "source": [
    "guro_his = {}\n",
    "for i in range(len(set(guro_df['단속연도']))):\n",
    "    guro_his[list(set(guro_df['단속연도']))[i]] = sum(guro_df.loc[guro_df['단속연도'] == list(set(guro_df['단속연도']))[i], '단속건수'])\n",
    "    \n",
    "guro_his"
   ]
  },
  {
   "cell_type": "code",
   "execution_count": 105,
   "metadata": {},
   "outputs": [
    {
     "data": {
      "text/plain": [
       "<BarContainer object of 6 artists>"
      ]
     },
     "execution_count": 105,
     "metadata": {},
     "output_type": "execute_result"
    },
    {
     "data": {
      "image/png": "[encoded data removed]",
      "text/plain": [
       "<Figure size 432x288 with 1 Axes>"
      ]
     },
     "metadata": {
      "needs_background": "light"
     },
     "output_type": "display_data"
    }
   ],
   "source": [
    "plt.rcParams['font.family'] = 'Malgun Gothic'\n",
    "plt.title('2017-2022년 구로구 불법주정차 단속건수')\n",
    "plt.xlabel('년도')\n",
    "plt.ylabel('건수')\n",
    "plt.xticks(rotation=45)\n",
    "plt.bar(guro_his.keys(), guro_his.values(), color='skyblue')"
   ]
  },
  {
   "cell_type": "code",
   "execution_count": 92,
   "metadata": {},
   "outputs": [
    {
     "data": {
      "text/html": [
       "<div>\n",
       "<style scoped>\n",
       "    .dataframe tbody tr th:only-of-type {\n",
       "        vertical-align: middle;\n",
       "    }\n",
       "\n",
       "    .dataframe tbody tr th {\n",
       "        vertical-align: top;\n",
       "    }\n",
       "\n",
       "    .dataframe thead th {\n",
       "        text-align: right;\n",
       "    }\n",
       "</style>\n",
       "<table border=\"1\" class=\"dataframe\">\n",
       "  <thead>\n",
       "    <tr style=\"text-align: right;\">\n",
       "      <th></th>\n",
       "      <th>단속연월</th>\n",
       "      <th>단속건수(건)</th>\n",
       "    </tr>\n",
       "  </thead>\n",
       "  <tbody>\n",
       "    <tr>\n",
       "      <th>0</th>\n",
       "      <td>2011-01</td>\n",
       "      <td>2382</td>\n",
       "    </tr>\n",
       "    <tr>\n",
       "      <th>1</th>\n",
       "      <td>2011-02</td>\n",
       "      <td>3296</td>\n",
       "    </tr>\n",
       "    <tr>\n",
       "      <th>2</th>\n",
       "      <td>2011-03</td>\n",
       "      <td>4467</td>\n",
       "    </tr>\n",
       "    <tr>\n",
       "      <th>3</th>\n",
       "      <td>2011-04</td>\n",
       "      <td>3671</td>\n",
       "    </tr>\n",
       "    <tr>\n",
       "      <th>4</th>\n",
       "      <td>2011-05</td>\n",
       "      <td>3525</td>\n",
       "    </tr>\n",
       "    <tr>\n",
       "      <th>...</th>\n",
       "      <td>...</td>\n",
       "      <td>...</td>\n",
       "    </tr>\n",
       "    <tr>\n",
       "      <th>127</th>\n",
       "      <td>2021-08</td>\n",
       "      <td>3631</td>\n",
       "    </tr>\n",
       "    <tr>\n",
       "      <th>128</th>\n",
       "      <td>2021-09</td>\n",
       "      <td>4366</td>\n",
       "    </tr>\n",
       "    <tr>\n",
       "      <th>129</th>\n",
       "      <td>2021-10</td>\n",
       "      <td>3884</td>\n",
       "    </tr>\n",
       "    <tr>\n",
       "      <th>130</th>\n",
       "      <td>2021-11</td>\n",
       "      <td>4362</td>\n",
       "    </tr>\n",
       "    <tr>\n",
       "      <th>131</th>\n",
       "      <td>2021-12</td>\n",
       "      <td>3801</td>\n",
       "    </tr>\n",
       "  </tbody>\n",
       "</table>\n",
       "<p>132 rows × 2 columns</p>\n",
       "</div>"
      ],
      "text/plain": [
       "        단속연월  단속건수(건)\n",
       "0    2011-01     2382\n",
       "1    2011-02     3296\n",
       "2    2011-03     4467\n",
       "3    2011-04     3671\n",
       "4    2011-05     3525\n",
       "..       ...      ...\n",
       "127  2021-08     3631\n",
       "128  2021-09     4366\n",
       "129  2021-10     3884\n",
       "130  2021-11     4362\n",
       "131  2021-12     3801\n",
       "\n",
       "[132 rows x 2 columns]"
      ]
     },
     "execution_count": 92,
     "metadata": {},
     "output_type": "execute_result"
    }
   ],
   "source": [
    "geumcheon_df"
   ]
  },
  {
   "cell_type": "code",
   "execution_count": 95,
   "metadata": {},
   "outputs": [
    {
     "data": {
      "text/plain": [
       "{2016: 66446,\n",
       " 2017: 56800,\n",
       " 2018: 55895,\n",
       " 2019: 59890,\n",
       " 2020: 53490,\n",
       " 2021: 52403,\n",
       " 2011: 41214,\n",
       " 2012: 49320,\n",
       " 2013: 48492,\n",
       " 2014: 48201,\n",
       " 2015: 44570}"
      ]
     },
     "execution_count": 95,
     "metadata": {},
     "output_type": "execute_result"
    }
   ],
   "source": [
    "geumcheon_df['단속연월'] = pd.to_datetime(geumcheon_df['단속연월'])\n",
    "geumcheon_df['단속년도'] = geumcheon_df['단속연월'].dt.year\n",
    "geumcheon_his = {}\n",
    "for i in range(len(set(geumcheon_df['단속년도']))):\n",
    "    geumcheon_his[list(set(geumcheon_df['단속년도']))[i]] = sum(geumcheon_df.loc[geumcheon_df['단속년도'] == list(set(geumcheon_df['단속년도']))[i], '단속건수(건)'])\n",
    "    \n",
    "geumcheon_his"
   ]
  },
  {
   "cell_type": "code",
   "execution_count": 104,
   "metadata": {},
   "outputs": [
    {
     "data": {
      "text/plain": [
       "<BarContainer object of 11 artists>"
      ]
     },
     "execution_count": 104,
     "metadata": {},
     "output_type": "execute_result"
    },
    {
     "data": {
      "image/png": "[encoded data removed]",
      "text/plain": [
       "<Figure size 432x288 with 1 Axes>"
      ]
     },
     "metadata": {
      "needs_background": "light"
     },
     "output_type": "display_data"
    }
   ],
   "source": [
    "plt.rcParams['font.family'] = 'Malgun Gothic'\n",
    "plt.title('2011-2021년 금천구 불법주정차 단속건수')\n",
    "plt.xlabel('년도')\n",
    "plt.ylabel('건수')\n",
    "plt.xticks(rotation=45)\n",
    "plt.bar(geumcheon_his.keys(), geumcheon_his.values(), color='skyblue')"
   ]
  },
  {
   "cell_type": "code",
   "execution_count": 99,
   "metadata": {
    "scrolled": true
   },
   "outputs": [
    {
     "data": {
      "text/html": [
       "<div>\n",
       "<style scoped>\n",
       "    .dataframe tbody tr th:only-of-type {\n",
       "        vertical-align: middle;\n",
       "    }\n",
       "\n",
       "    .dataframe tbody tr th {\n",
       "        vertical-align: top;\n",
       "    }\n",
       "\n",
       "    .dataframe thead th {\n",
       "        text-align: right;\n",
       "    }\n",
       "</style>\n",
       "<table border=\"1\" class=\"dataframe\">\n",
       "  <thead>\n",
       "    <tr style=\"text-align: right;\">\n",
       "      <th></th>\n",
       "      <th>단속일시</th>\n",
       "    </tr>\n",
       "  </thead>\n",
       "  <tbody>\n",
       "    <tr>\n",
       "      <th>0</th>\n",
       "      <td>2015-01-01 00:00</td>\n",
       "    </tr>\n",
       "    <tr>\n",
       "      <th>1</th>\n",
       "      <td>2015-01-01 00:00</td>\n",
       "    </tr>\n",
       "    <tr>\n",
       "      <th>2</th>\n",
       "      <td>2015-01-01 00:01</td>\n",
       "    </tr>\n",
       "    <tr>\n",
       "      <th>3</th>\n",
       "      <td>2015-01-01 00:01</td>\n",
       "    </tr>\n",
       "    <tr>\n",
       "      <th>4</th>\n",
       "      <td>2015-01-01 00:02</td>\n",
       "    </tr>\n",
       "    <tr>\n",
       "      <th>...</th>\n",
       "      <td>...</td>\n",
       "    </tr>\n",
       "    <tr>\n",
       "      <th>544142</th>\n",
       "      <td>2021-06-11 20:43</td>\n",
       "    </tr>\n",
       "    <tr>\n",
       "      <th>544143</th>\n",
       "      <td>2021-06-11 21:07</td>\n",
       "    </tr>\n",
       "    <tr>\n",
       "      <th>544144</th>\n",
       "      <td>2021-06-11 21:07</td>\n",
       "    </tr>\n",
       "    <tr>\n",
       "      <th>544145</th>\n",
       "      <td>2021-06-11 21:31</td>\n",
       "    </tr>\n",
       "    <tr>\n",
       "      <th>544146</th>\n",
       "      <td>2021-06-11 22:55</td>\n",
       "    </tr>\n",
       "  </tbody>\n",
       "</table>\n",
       "<p>544147 rows × 1 columns</p>\n",
       "</div>"
      ],
      "text/plain": [
       "                    단속일시\n",
       "0       2015-01-01 00:00\n",
       "1       2015-01-01 00:00\n",
       "2       2015-01-01 00:01\n",
       "3       2015-01-01 00:01\n",
       "4       2015-01-01 00:02\n",
       "...                  ...\n",
       "544142  2021-06-11 20:43\n",
       "544143  2021-06-11 21:07\n",
       "544144  2021-06-11 21:07\n",
       "544145  2021-06-11 21:31\n",
       "544146  2021-06-11 22:55\n",
       "\n",
       "[544147 rows x 1 columns]"
      ]
     },
     "execution_count": 99,
     "metadata": {},
     "output_type": "execute_result"
    }
   ],
   "source": [
    "yongsan_df[['단속일시']]"
   ]
  },
  {
   "cell_type": "code",
   "execution_count": 101,
   "metadata": {},
   "outputs": [
    {
     "data": {
      "text/plain": [
       "{2016: 87365,\n",
       " 2017: 94040,\n",
       " 2018: 96816,\n",
       " 2019: 66385,\n",
       " 2020: 71745,\n",
       " 2021: 33445,\n",
       " 2015: 94351}"
      ]
     },
     "execution_count": 101,
     "metadata": {},
     "output_type": "execute_result"
    }
   ],
   "source": [
    "yongsan_df['단속일시'] = pd.to_datetime(yongsan_df['단속일시'])\n",
    "yongsan_df['단속년도'] = yongsan_df['단속일시'].dt.year\n",
    "yongsan_his = {}\n",
    "for i in range(len(set(yongsan_df['단속년도']))):\n",
    "    yongsan_his[list(set(yongsan_df['단속년도']))[i]] = len(yongsan_df[yongsan_df['단속년도'] == list(set(yongsan_df['단속년도']))[i]])\n",
    "    \n",
    "yongsan_his"
   ]
  },
  {
   "cell_type": "code",
   "execution_count": 106,
   "metadata": {},
   "outputs": [
    {
     "data": {
      "text/plain": [
       "<BarContainer object of 7 artists>"
      ]
     },
     "execution_count": 106,
     "metadata": {},
     "output_type": "execute_result"
    },
    {
     "data": {
      "image/png": "[encoded data removed]",
      "text/plain": [
       "<Figure size 432x288 with 1 Axes>"
      ]
     },
     "metadata": {
      "needs_background": "light"
     },
     "output_type": "display_data"
    }
   ],
   "source": [
    "plt.rcParams['font.family'] = 'Malgun Gothic'\n",
    "plt.title('2015-2021년 용산구 불법주정차 단속건수')\n",
    "plt.xlabel('년도')\n",
    "plt.ylabel('건수')\n",
    "plt.xticks(rotation=45)\n",
    "plt.bar(yongsan_his.keys(), yongsan_his.values(), color='skyblue')"
   ]
  },
  {
   "cell_type": "code",
   "execution_count": 108,
   "metadata": {},
   "outputs": [
    {
     "data": {
      "text/html": [
       "<div>\n",
       "<style scoped>\n",
       "    .dataframe tbody tr th:only-of-type {\n",
       "        vertical-align: middle;\n",
       "    }\n",
       "\n",
       "    .dataframe tbody tr th {\n",
       "        vertical-align: top;\n",
       "    }\n",
       "\n",
       "    .dataframe thead th {\n",
       "        text-align: right;\n",
       "    }\n",
       "</style>\n",
       "<table border=\"1\" class=\"dataframe\">\n",
       "  <thead>\n",
       "    <tr style=\"text-align: right;\">\n",
       "      <th></th>\n",
       "      <th>단속년월</th>\n",
       "      <th>단속건수</th>\n",
       "    </tr>\n",
       "  </thead>\n",
       "  <tbody>\n",
       "    <tr>\n",
       "      <th>0</th>\n",
       "      <td>200101</td>\n",
       "      <td>4,465</td>\n",
       "    </tr>\n",
       "    <tr>\n",
       "      <th>1</th>\n",
       "      <td>200102</td>\n",
       "      <td>5,239</td>\n",
       "    </tr>\n",
       "    <tr>\n",
       "      <th>2</th>\n",
       "      <td>200103</td>\n",
       "      <td>6,502</td>\n",
       "    </tr>\n",
       "    <tr>\n",
       "      <th>3</th>\n",
       "      <td>200104</td>\n",
       "      <td>5,232</td>\n",
       "    </tr>\n",
       "    <tr>\n",
       "      <th>4</th>\n",
       "      <td>200105</td>\n",
       "      <td>6,230</td>\n",
       "    </tr>\n",
       "    <tr>\n",
       "      <th>...</th>\n",
       "      <td>...</td>\n",
       "      <td>...</td>\n",
       "    </tr>\n",
       "    <tr>\n",
       "      <th>247</th>\n",
       "      <td>202108</td>\n",
       "      <td>5,000</td>\n",
       "    </tr>\n",
       "    <tr>\n",
       "      <th>248</th>\n",
       "      <td>202109</td>\n",
       "      <td>4,362</td>\n",
       "    </tr>\n",
       "    <tr>\n",
       "      <th>249</th>\n",
       "      <td>202110</td>\n",
       "      <td>5,189</td>\n",
       "    </tr>\n",
       "    <tr>\n",
       "      <th>250</th>\n",
       "      <td>202111</td>\n",
       "      <td>5,430</td>\n",
       "    </tr>\n",
       "    <tr>\n",
       "      <th>251</th>\n",
       "      <td>202112</td>\n",
       "      <td>3,942</td>\n",
       "    </tr>\n",
       "  </tbody>\n",
       "</table>\n",
       "<p>252 rows × 2 columns</p>\n",
       "</div>"
      ],
      "text/plain": [
       "       단속년월   단속건수\n",
       "0    200101  4,465\n",
       "1    200102  5,239\n",
       "2    200103  6,502\n",
       "3    200104  5,232\n",
       "4    200105  6,230\n",
       "..      ...    ...\n",
       "247  202108  5,000\n",
       "248  202109  4,362\n",
       "249  202110  5,189\n",
       "250  202111  5,430\n",
       "251  202112  3,942\n",
       "\n",
       "[252 rows x 2 columns]"
      ]
     },
     "execution_count": 108,
     "metadata": {},
     "output_type": "execute_result"
    }
   ],
   "source": [
    "eunpyeong_df[['단속년월','단속건수']]"
   ]
  },
  {
   "cell_type": "code",
   "execution_count": 109,
   "metadata": {},
   "outputs": [
    {
     "ename": "TypeError",
     "evalue": "unsupported operand type(s) for +: 'int' and 'str'",
     "output_type": "error",
     "traceback": [
      "\u001b[1;31m---------------------------------------------------------------------------\u001b[0m",
      "\u001b[1;31mTypeError\u001b[0m                                 Traceback (most recent call last)",
      "\u001b[1;32m<ipython-input-109-29d950698f98>\u001b[0m in \u001b[0;36m<module>\u001b[1;34m\u001b[0m\n\u001b[0;32m      3\u001b[0m \u001b[0meunpyeong_his\u001b[0m \u001b[1;33m=\u001b[0m \u001b[1;33m{\u001b[0m\u001b[1;33m}\u001b[0m\u001b[1;33m\u001b[0m\u001b[1;33m\u001b[0m\u001b[0m\n\u001b[0;32m      4\u001b[0m \u001b[1;32mfor\u001b[0m \u001b[0mi\u001b[0m \u001b[1;32min\u001b[0m \u001b[0mrange\u001b[0m\u001b[1;33m(\u001b[0m\u001b[0mlen\u001b[0m\u001b[1;33m(\u001b[0m\u001b[0mset\u001b[0m\u001b[1;33m(\u001b[0m\u001b[0meunpyeong_df\u001b[0m\u001b[1;33m[\u001b[0m\u001b[1;34m'단속년도'\u001b[0m\u001b[1;33m]\u001b[0m\u001b[1;33m)\u001b[0m\u001b[1;33m)\u001b[0m\u001b[1;33m)\u001b[0m\u001b[1;33m:\u001b[0m\u001b[1;33m\u001b[0m\u001b[1;33m\u001b[0m\u001b[0m\n\u001b[1;32m----> 5\u001b[1;33m     \u001b[0meunpyeong_his\u001b[0m\u001b[1;33m[\u001b[0m\u001b[0mlist\u001b[0m\u001b[1;33m(\u001b[0m\u001b[0mset\u001b[0m\u001b[1;33m(\u001b[0m\u001b[0meunpyeong_df\u001b[0m\u001b[1;33m[\u001b[0m\u001b[1;34m'단속년도'\u001b[0m\u001b[1;33m]\u001b[0m\u001b[1;33m)\u001b[0m\u001b[1;33m)\u001b[0m\u001b[1;33m[\u001b[0m\u001b[0mi\u001b[0m\u001b[1;33m]\u001b[0m\u001b[1;33m]\u001b[0m \u001b[1;33m=\u001b[0m \u001b[0msum\u001b[0m\u001b[1;33m(\u001b[0m\u001b[0meunpyeong_df\u001b[0m\u001b[1;33m.\u001b[0m\u001b[0mloc\u001b[0m\u001b[1;33m[\u001b[0m\u001b[0meunpyeong_df\u001b[0m\u001b[1;33m[\u001b[0m\u001b[1;34m'단속년도'\u001b[0m\u001b[1;33m]\u001b[0m \u001b[1;33m==\u001b[0m \u001b[0mlist\u001b[0m\u001b[1;33m(\u001b[0m\u001b[0mset\u001b[0m\u001b[1;33m(\u001b[0m\u001b[0meunpyeong_df\u001b[0m\u001b[1;33m[\u001b[0m\u001b[1;34m'단속년도'\u001b[0m\u001b[1;33m]\u001b[0m\u001b[1;33m)\u001b[0m\u001b[1;33m)\u001b[0m\u001b[1;33m[\u001b[0m\u001b[0mi\u001b[0m\u001b[1;33m]\u001b[0m\u001b[1;33m,\u001b[0m \u001b[1;34m'단속건수'\u001b[0m\u001b[1;33m]\u001b[0m\u001b[1;33m)\u001b[0m\u001b[1;33m\u001b[0m\u001b[1;33m\u001b[0m\u001b[0m\n\u001b[0m\u001b[0;32m      6\u001b[0m \u001b[1;33m\u001b[0m\u001b[0m\n\u001b[0;32m      7\u001b[0m \u001b[0meunpyeong_his\u001b[0m\u001b[1;33m\u001b[0m\u001b[1;33m\u001b[0m\u001b[0m\n",
      "\u001b[1;31mTypeError\u001b[0m: unsupported operand type(s) for +: 'int' and 'str'"
     ]
    }
   ],
   "source": [
    "eunpyeong_df['단속년월'] = pd.to_datetime(eunpyeong_df['단속년월'])\n",
    "eunpyeong_df['단속년도'] = eunpyeong_df['단속년월'].dt.year\n",
    "eunpyeong_his = {}\n",
    "for i in range(len(set(eunpyeong_df['단속년도']))):\n",
    "    eunpyeong_his[list(set(eunpyeong_df['단속년도']))[i]] = sum(eunpyeong_df.loc[eunpyeong_df['단속년도'] == list(set(eunpyeong_df['단속년도']))[i], '단속건수'])\n",
    "    \n",
    "eunpyeong_his"
   ]
  },
  {
   "cell_type": "code",
   "execution_count": null,
   "metadata": {},
   "outputs": [],
   "source": [
    "plt.rcParams['font.family'] = 'Malgun Gothic'\n",
    "plt.title('2015-2022년 은평구 불법주정차 단속건수')\n",
    "plt.xlabel('년도')\n",
    "plt.ylabel('건수')\n",
    "plt.xticks(rotation=45)\n",
    "plt.bar(yongsan_his.keys(), yongsan_his.values(), color='skyblue')"
   ]
  },
  {
   "cell_type": "code",
   "execution_count": 111,
   "metadata": {},
   "outputs": [
    {
     "data": {
      "text/html": [
       "<div>\n",
       "<style scoped>\n",
       "    .dataframe tbody tr th:only-of-type {\n",
       "        vertical-align: middle;\n",
       "    }\n",
       "\n",
       "    .dataframe tbody tr th {\n",
       "        vertical-align: top;\n",
       "    }\n",
       "\n",
       "    .dataframe thead th {\n",
       "        text-align: right;\n",
       "    }\n",
       "</style>\n",
       "<table border=\"1\" class=\"dataframe\">\n",
       "  <thead>\n",
       "    <tr style=\"text-align: right;\">\n",
       "      <th></th>\n",
       "      <th>단속년월</th>\n",
       "      <th>단속건수</th>\n",
       "    </tr>\n",
       "  </thead>\n",
       "  <tbody>\n",
       "    <tr>\n",
       "      <th>0</th>\n",
       "      <td>2011-01</td>\n",
       "      <td>2560</td>\n",
       "    </tr>\n",
       "    <tr>\n",
       "      <th>1</th>\n",
       "      <td>2011-02</td>\n",
       "      <td>3854</td>\n",
       "    </tr>\n",
       "    <tr>\n",
       "      <th>2</th>\n",
       "      <td>2011-03</td>\n",
       "      <td>5789</td>\n",
       "    </tr>\n",
       "    <tr>\n",
       "      <th>3</th>\n",
       "      <td>2011-04</td>\n",
       "      <td>4362</td>\n",
       "    </tr>\n",
       "    <tr>\n",
       "      <th>4</th>\n",
       "      <td>2011-05</td>\n",
       "      <td>3913</td>\n",
       "    </tr>\n",
       "    <tr>\n",
       "      <th>...</th>\n",
       "      <td>...</td>\n",
       "      <td>...</td>\n",
       "    </tr>\n",
       "    <tr>\n",
       "      <th>127</th>\n",
       "      <td>2021-08</td>\n",
       "      <td>3370</td>\n",
       "    </tr>\n",
       "    <tr>\n",
       "      <th>128</th>\n",
       "      <td>2021-09</td>\n",
       "      <td>3113</td>\n",
       "    </tr>\n",
       "    <tr>\n",
       "      <th>129</th>\n",
       "      <td>2021-10</td>\n",
       "      <td>3541</td>\n",
       "    </tr>\n",
       "    <tr>\n",
       "      <th>130</th>\n",
       "      <td>2021-11</td>\n",
       "      <td>3660</td>\n",
       "    </tr>\n",
       "    <tr>\n",
       "      <th>131</th>\n",
       "      <td>2021-12</td>\n",
       "      <td>3816</td>\n",
       "    </tr>\n",
       "  </tbody>\n",
       "</table>\n",
       "<p>132 rows × 2 columns</p>\n",
       "</div>"
      ],
      "text/plain": [
       "        단속년월  단속건수\n",
       "0    2011-01  2560\n",
       "1    2011-02  3854\n",
       "2    2011-03  5789\n",
       "3    2011-04  4362\n",
       "4    2011-05  3913\n",
       "..       ...   ...\n",
       "127  2021-08  3370\n",
       "128  2021-09  3113\n",
       "129  2021-10  3541\n",
       "130  2021-11  3660\n",
       "131  2021-12  3816\n",
       "\n",
       "[132 rows x 2 columns]"
      ]
     },
     "execution_count": 111,
     "metadata": {},
     "output_type": "execute_result"
    }
   ],
   "source": [
    "jungrang_df[['단속년월', '단속건수']]"
   ]
  },
  {
   "cell_type": "code",
   "execution_count": 112,
   "metadata": {},
   "outputs": [
    {
     "data": {
      "text/plain": [
       "{2016: 64912,\n",
       " 2017: 59402,\n",
       " 2018: 48969,\n",
       " 2019: 48284,\n",
       " 2020: 39378,\n",
       " 2021: 39597,\n",
       " 2011: 52312,\n",
       " 2012: 75359,\n",
       " 2013: 62393,\n",
       " 2014: 62490,\n",
       " 2015: 59217}"
      ]
     },
     "execution_count": 112,
     "metadata": {},
     "output_type": "execute_result"
    }
   ],
   "source": [
    "jungrang_df['단속년월'] = pd.to_datetime(jungrang_df['단속년월'])\n",
    "jungrang_df['단속년도'] = jungrang_df['단속년월'].dt.year\n",
    "jungrang_his = {}\n",
    "for i in range(len(set(jungrang_df['단속년도']))):\n",
    "    jungrang_his[list(set(jungrang_df['단속년도']))[i]] = sum(jungrang_df.loc[jungrang_df['단속년도'] == list(set(jungrang_df['단속년도']))[i], '단속건수'])\n",
    "    \n",
    "jungrang_his"
   ]
  },
  {
   "cell_type": "code",
   "execution_count": 115,
   "metadata": {
    "scrolled": true
   },
   "outputs": [
    {
     "data": {
      "text/plain": [
       "<BarContainer object of 11 artists>"
      ]
     },
     "execution_count": 115,
     "metadata": {},
     "output_type": "execute_result"
    },
    {
     "data": {
      "image/png": "[encoded data removed]",
      "text/plain": [
       "<Figure size 432x288 with 1 Axes>"
      ]
     },
     "metadata": {
      "needs_background": "light"
     },
     "output_type": "display_data"
    }
   ],
   "source": [
    "plt.rcParams['font.family'] = 'Malgun Gothic'\n",
    "plt.title('2011-2021년 중랑구 불법주정차 단속건수')\n",
    "plt.xlabel('년도')\n",
    "plt.ylabel('건수')\n",
    "plt.xticks(rotation=45)\n",
    "plt.bar(jungrang_his.keys(), jungrang_his.values(), color='skyblue')"
   ]
  },
  {
   "cell_type": "code",
   "execution_count": null,
   "metadata": {},
   "outputs": [],
   "source": []
  },
  {
   "cell_type": "code",
   "execution_count": null,
   "metadata": {},
   "outputs": [],
   "source": []
  },
  {
   "cell_type": "code",
   "execution_count": null,
   "metadata": {},
   "outputs": [],
   "source": []
  },
  {
   "cell_type": "code",
   "execution_count": 146,
   "metadata": {
    "scrolled": true
   },
   "outputs": [
    {
     "data": {
      "text/html": [
       "<div>\n",
       "<style scoped>\n",
       "    .dataframe tbody tr th:only-of-type {\n",
       "        vertical-align: middle;\n",
       "    }\n",
       "\n",
       "    .dataframe tbody tr th {\n",
       "        vertical-align: top;\n",
       "    }\n",
       "\n",
       "    .dataframe thead th {\n",
       "        text-align: right;\n",
       "    }\n",
       "</style>\n",
       "<table border=\"1\" class=\"dataframe\">\n",
       "  <thead>\n",
       "    <tr style=\"text-align: right;\">\n",
       "      <th></th>\n",
       "      <th>연도</th>\n",
       "      <th>부과건수</th>\n",
       "    </tr>\n",
       "  </thead>\n",
       "  <tbody>\n",
       "    <tr>\n",
       "      <th>0</th>\n",
       "      <td>2017</td>\n",
       "      <td>9409</td>\n",
       "    </tr>\n",
       "    <tr>\n",
       "      <th>1</th>\n",
       "      <td>2017</td>\n",
       "      <td>71771</td>\n",
       "    </tr>\n",
       "    <tr>\n",
       "      <th>2</th>\n",
       "      <td>2017</td>\n",
       "      <td>55222</td>\n",
       "    </tr>\n",
       "    <tr>\n",
       "      <th>3</th>\n",
       "      <td>2017</td>\n",
       "      <td>10763</td>\n",
       "    </tr>\n",
       "    <tr>\n",
       "      <th>4</th>\n",
       "      <td>2017</td>\n",
       "      <td>36472</td>\n",
       "    </tr>\n",
       "    <tr>\n",
       "      <th>...</th>\n",
       "      <td>...</td>\n",
       "      <td>...</td>\n",
       "    </tr>\n",
       "    <tr>\n",
       "      <th>61</th>\n",
       "      <td>2021</td>\n",
       "      <td>8106</td>\n",
       "    </tr>\n",
       "    <tr>\n",
       "      <th>62</th>\n",
       "      <td>2021</td>\n",
       "      <td>37982</td>\n",
       "    </tr>\n",
       "    <tr>\n",
       "      <th>63</th>\n",
       "      <td>2021</td>\n",
       "      <td>6028</td>\n",
       "    </tr>\n",
       "    <tr>\n",
       "      <th>64</th>\n",
       "      <td>2021</td>\n",
       "      <td>1967</td>\n",
       "    </tr>\n",
       "    <tr>\n",
       "      <th>65</th>\n",
       "      <td>2021</td>\n",
       "      <td>21038</td>\n",
       "    </tr>\n",
       "  </tbody>\n",
       "</table>\n",
       "<p>66 rows × 2 columns</p>\n",
       "</div>"
      ],
      "text/plain": [
       "      연도   부과건수\n",
       "0   2017   9409\n",
       "1   2017  71771\n",
       "2   2017  55222\n",
       "3   2017  10763\n",
       "4   2017  36472\n",
       "..   ...    ...\n",
       "61  2021   8106\n",
       "62  2021  37982\n",
       "63  2021   6028\n",
       "64  2021   1967\n",
       "65  2021  21038\n",
       "\n",
       "[66 rows x 2 columns]"
      ]
     },
     "execution_count": 146,
     "metadata": {},
     "output_type": "execute_result"
    }
   ],
   "source": [
    "gangnam_df[['연도','부과건수']]"
   ]
  },
  {
   "cell_type": "code",
   "execution_count": 147,
   "metadata": {},
   "outputs": [
    {
     "data": {
      "text/plain": [
       "{2017: 404833, 2018: 293596, 2019: 289884, 2020: 166845, 2021: 192164}"
      ]
     },
     "execution_count": 147,
     "metadata": {},
     "output_type": "execute_result"
    }
   ],
   "source": [
    "gangnam_his = {}\n",
    "for i in range(len(set(gangnam_df['연도']))):\n",
    "    gangnam_his[list(set(gangnam_df['연도']))[i]] = sum(gangnam_df.loc[gangnam_df['연도'] == list(set(gangnam_df['연도']))[i], '부과건수'])\n",
    "    \n",
    "gangnam_his"
   ]
  },
  {
   "cell_type": "code",
   "execution_count": 150,
   "metadata": {
    "scrolled": true
   },
   "outputs": [
    {
     "name": "stdout",
     "output_type": "stream",
     "text": [
      "[(2017, 404833), (2018, 293596), (2019, 289884), (2020, 166845), (2021, 192164)]\n",
      "[(2017, 61815), (2018, 49366), (2019, 59384), (2020, 52906), (2021, 53297)]\n",
      "[(2017, 106147), (2018, 99485), (2019, 88986), (2020, 69558), (2021, 65096)]\n",
      "[(2017, 56800), (2018, 55895), (2019, 59890), (2020, 53490), (2021, 52403)]\n",
      "[(2017, 94040), (2018, 96816), (2019, 66385), (2020, 71745), (2021, 33445)]\n",
      "[(2017, 59402), (2018, 48969), (2019, 48284), (2020, 39378), (2021, 39597)]\n"
     ]
    }
   ],
   "source": [
    "print(sorted(gangnam_his.items()))\n",
    "print(sorted(gangbuk_his.items()))\n",
    "print(sorted(guro_his.items())[:5])\n",
    "print(sorted(geumcheon_his.items())[6:])\n",
    "print(sorted(yongsan_his.items())[2:])\n",
    "print(sorted(jungrang_his.items())[6:])"
   ]
  },
  {
   "cell_type": "code",
   "execution_count": 151,
   "metadata": {
    "scrolled": true
   },
   "outputs": [
    {
     "name": "stdout",
     "output_type": "stream",
     "text": [
      "783037\n",
      "644127\n",
      "612813\n",
      "453922\n",
      "436002\n"
     ]
    }
   ],
   "source": [
    "print(gangnam_his[2017] + gangbuk_his[2017] + guro_his[2017] + geumcheon_his[2017] + yongsan_his[2017] + jungrang_his[2017])\n",
    "print(gangnam_his[2018] + gangbuk_his[2018] + guro_his[2018] + geumcheon_his[2018] + yongsan_his[2018] + jungrang_his[2018])\n",
    "print(gangnam_his[2019] + gangbuk_his[2019] + guro_his[2019] + geumcheon_his[2019] + yongsan_his[2019] + jungrang_his[2019])\n",
    "print(gangnam_his[2020] + gangbuk_his[2020] + guro_his[2020] + geumcheon_his[2020] + yongsan_his[2020] + jungrang_his[2020])\n",
    "print(gangnam_his[2021] + gangbuk_his[2021] + guro_his[2021] + geumcheon_his[2021] + yongsan_his[2021] + jungrang_his[2021])"
   ]
  },
  {
   "cell_type": "code",
   "execution_count": 152,
   "metadata": {
    "scrolled": true
   },
   "outputs": [
    {
     "data": {
      "text/plain": [
       "<BarContainer object of 5 artists>"
      ]
     },
     "execution_count": 152,
     "metadata": {},
     "output_type": "execute_result"
    },
    {
     "data": {
      "image/png": "[encoded data removed]",
      "text/plain": [
       "<Figure size 432x288 with 1 Axes>"
      ]
     },
     "metadata": {
      "needs_background": "light"
     },
     "output_type": "display_data"
    }
   ],
   "source": [
    "seoul_yesi = {2017:783037,2018:644127,2019:612813,2020:453922,2021:436002}\n",
    "plt.rcParams['font.family'] = 'Malgun Gothic'\n",
    "plt.title('2017-2021년 서울시 불법주정차 단속건수')\n",
    "plt.xlabel('년도')\n",
    "plt.ylabel('건수')\n",
    "plt.xticks(rotation=45)\n",
    "plt.bar(seoul_yesi.keys(), seoul_yesi.values(), color='skyblue')"
   ]
  },
  {
   "cell_type": "code",
   "execution_count": 154,
   "metadata": {
    "scrolled": true
   },
   "outputs": [
    {
     "name": "stdout",
     "output_type": "stream",
     "text": [
      "66\n",
      "9\n",
      "80\n",
      "120\n",
      "36\n",
      "473074\n",
      "69\n",
      "132\n",
      "524376\n",
      "2\n",
      "12\n",
      "6\n",
      "144\n",
      "44659\n",
      "132\n",
      "132\n",
      "104\n",
      "52\n",
      "544147\n",
      "252\n",
      "132\n"
     ]
    }
   ],
   "source": [
    "print(len(gangnam_df))\n",
    "print(len(gangdong_df))\n",
    "print(len(gangbuk_df))\n",
    "print(len(gangseo_df))\n",
    "print(len(gwanak_df))\n",
    "print(len(gwangjin_df))\n",
    "print(len(guro_df))\n",
    "print(len(geumcheon_df))\n",
    "print(len(nowon_df))\n",
    "print(len(dobong_df))\n",
    "print(len(dongdaemun_df))\n",
    "print(len(dongjak_df))\n",
    "print(len(mapo_df))\n",
    "print(len(seodaemun_df))\n",
    "print(len(seocho_df))\n",
    "print(len(seongbuk_df))\n",
    "print(len(yangcheon_df))\n",
    "print(len(yeongduengpo_df))\n",
    "print(len(yongsan_df))\n",
    "print(len(eunpyeong_df))\n",
    "print(len(jungrang_df))"
   ]
  }
 ],
 "metadata": {
  "kernelspec": {
   "display_name": "Python 3",
   "language": "python",
   "name": "python3"
  },
  "language_info": {
   "codemirror_mode": {
    "name": "ipython",
    "version": 3
   },
   "file_extension": ".py",
   "mimetype": "text/x-python",
   "name": "python",
   "nbconvert_exporter": "python",
   "pygments_lexer": "ipython3",
   "version": "3.8.3"
  }
 },
 "nbformat": 4,
 "nbformat_minor": 4
}
